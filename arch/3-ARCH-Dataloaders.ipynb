{
 "cells": [
  {
   "cell_type": "code",
   "execution_count": null,
   "id": "710e9f23",
   "metadata": {},
   "outputs": [],
   "source": [
    "import os\n",
    "import json\n",
    "\n",
    "import numpy as np\n",
    "import pandas as pd\n",
    "import matplotlib.pyplot as plt\n",
    "\n",
    "import cv2\n",
    "from PIL import Image\n",
    "#import imageio, skimage\n",
    "\n",
    "import torch\n",
    "\n",
    "from collections import Counter"
   ]
  },
  {
   "cell_type": "markdown",
   "id": "6bf7d16c",
   "metadata": {},
   "source": [
    "## Example from VirTex\n",
    "\n",
    "code from `arch-pre-training/virtex/data/datasets/coco_captions.py`"
   ]
  },
  {
   "cell_type": "code",
   "execution_count": null,
   "id": "9d22102a",
   "metadata": {},
   "outputs": [],
   "source": [
    "# code from virtex/data/datasets/coco_captions.py\n",
    "\n",
    "from collections import defaultdict\n",
    "import json\n",
    "import os\n",
    "from typing import Dict, List\n",
    "\n",
    "import cv2\n",
    "from torch.utils.data import Dataset\n",
    "\n",
    "\n",
    "class CocoCaptionsDataset(Dataset):\n",
    "    r\"\"\"\n",
    "    A PyTorch dataset to read COCO Captions dataset and provide it completely\n",
    "    unprocessed. This dataset is used by various task-specific datasets\n",
    "    in :mod:`~virtex.data.datasets` module.\n",
    "\n",
    "    Args:\n",
    "        data_root: Path to the COCO dataset root directory.\n",
    "        split: Name of COCO 2017 split to read. One of ``{\"train\", \"val\"}``.\n",
    "    \"\"\"\n",
    "\n",
    "    def __init__(self, data_root: str, split: str):\n",
    "\n",
    "        # Get paths to image directory and annotation file.\n",
    "        image_dir = os.path.join(data_root, f\"{split}2017\")\n",
    "        captions = json.load(\n",
    "            open(os.path.join(data_root, \"annotations\", f\"captions_{split}2017.json\"))\n",
    "        )\n",
    "        # Collect list of captions for each image.\n",
    "        captions_per_image: Dict[int, List[str]] = defaultdict(list)\n",
    "        for ann in captions[\"annotations\"]:\n",
    "            captions_per_image[ann[\"image_id\"]].append(ann[\"caption\"])\n",
    "\n",
    "        # Collect image file for each image (by its ID).\n",
    "        image_filepaths: Dict[int, str] = {\n",
    "            im[\"id\"]: os.path.join(image_dir, im[\"file_name\"])\n",
    "            for im in captions[\"images\"]\n",
    "        }\n",
    "        # Keep all annotations in memory. Make a list of tuples, each tuple\n",
    "        # is ``(image_id, file_path, list[captions])``.\n",
    "        self.instances = [\n",
    "            (im_id, image_filepaths[im_id], captions_per_image[im_id])\n",
    "            for im_id in captions_per_image.keys()\n",
    "        ]\n",
    "\n",
    "    def __len__(self):\n",
    "        return len(self.instances)\n",
    "\n",
    "    def __getitem__(self, idx: int):\n",
    "        image_id, image_path, captions = self.instances[idx]\n",
    "\n",
    "        # shape: (height, width, channels), dtype: uint8\n",
    "        image = cv2.imread(image_path)\n",
    "        image = cv2.cvtColor(image, cv2.COLOR_BGR2RGB)\n",
    "\n",
    "        return {\"image_id\": image_id, \"image\": image, \"captions\": captions}"
   ]
  },
  {
   "cell_type": "markdown",
   "id": "dbb89f00",
   "metadata": {},
   "source": [
    "Check how the dataset object behaves"
   ]
  },
  {
   "cell_type": "code",
   "execution_count": null,
   "id": "5824833c",
   "metadata": {},
   "outputs": [],
   "source": [
    "coco_dataset = CocoCaptionsDataset('../datasets/coco', split='train')"
   ]
  },
  {
   "cell_type": "code",
   "execution_count": null,
   "id": "26d6b152",
   "metadata": {},
   "outputs": [],
   "source": [
    "coco_dataset.instances"
   ]
  },
  {
   "cell_type": "markdown",
   "id": "0da74407",
   "metadata": {},
   "source": [
    "## PubMed Dataset"
   ]
  },
  {
   "cell_type": "code",
   "execution_count": null,
   "id": "f7bcc84e",
   "metadata": {},
   "outputs": [],
   "source": [
    "pubmed_set_dir = '../datasets/ARCH/pubmed_set'"
   ]
  },
  {
   "cell_type": "code",
   "execution_count": null,
   "id": "6949b846",
   "metadata": {},
   "outputs": [],
   "source": [
    "os.listdir(pubmed_set_dir)"
   ]
  },
  {
   "cell_type": "code",
   "execution_count": null,
   "id": "cd59c54b",
   "metadata": {},
   "outputs": [],
   "source": [
    "os.listdir(pubmed_set_dir +'/images')[:5]"
   ]
  },
  {
   "cell_type": "code",
   "execution_count": null,
   "id": "1b390b71",
   "metadata": {},
   "outputs": [],
   "source": [
    "with open(f'{pubmed_set_dir}/captions.json', 'r') as f:\n",
    "    pubmed_captions = json.load(f)"
   ]
  },
  {
   "cell_type": "code",
   "execution_count": null,
   "id": "58a837cc",
   "metadata": {},
   "outputs": [],
   "source": [
    "pubmed_captions"
   ]
  },
  {
   "cell_type": "markdown",
   "id": "94c245b4",
   "metadata": {},
   "source": [
    "Indices appear to be integers from 0 to 3308."
   ]
  },
  {
   "cell_type": "code",
   "execution_count": null,
   "id": "a51be3ec",
   "metadata": {},
   "outputs": [],
   "source": [
    "# Check for duplicates (slightly pointless since keys have to be unique anyway)\n",
    "assert len(pubmed_captions.keys()) == len(set(pubmed_captions.keys()))\n",
    "\n",
    "# check for the indices to be without gaps ['0', '1', '2', ..., '3308']\n",
    "assert sorted(list(pubmed_captions.keys())) == sorted([str(i) for i in range(len(pubmed_captions.keys()))])"
   ]
  },
  {
   "cell_type": "markdown",
   "id": "c92de280",
   "metadata": {},
   "source": [
    "A simple check confirms that everything is in order."
   ]
  },
  {
   "cell_type": "code",
   "execution_count": null,
   "id": "fefba7c3",
   "metadata": {},
   "outputs": [],
   "source": [
    "class ArchPubmedCaptionsDataset(Dataset):\n",
    "    r\"\"\"\n",
    "    A PyTorch dataset to read ARCH Pubmed dataset and provide it completely\n",
    "    unprocessed. This dataset is used by various task-specific datasets\n",
    "    in :mod:`~virtex.data.datasets` module.\n",
    "\n",
    "    Args:\n",
    "        data_root: Path to the ARCH dataset root directory.\n",
    "        split: Name of ARCH split to read. One of ``{\"train\", \"val\"}``.\n",
    "    \"\"\"\n",
    "\n",
    "    def __init__(self, data_root: str, split: str=''):\n",
    "\n",
    "#         TODO: change after splitting the caption files into train and validation\n",
    "#         \n",
    "#         # Get paths to image directory and annotation file.\n",
    "#         image_dir = os.path.join(data_root, \"pubmed_set/images\", f\"{split}\")\n",
    "#         captions = json.load(\n",
    "#             open(os.path.join(data_root, \"pubmed_set\", f\"captions_{split}.json\"))\n",
    "#         )\n",
    "        \n",
    "        # Get paths to image directory and annotation file.\n",
    "        image_dir = os.path.join(data_root, \"pubmed_set/images\")\n",
    "        captions = json.load(\n",
    "            open(os.path.join(data_root, \"pubmed_set\", \"captions.json\"))\n",
    "        )\n",
    "        \n",
    "        # Collect list of captions for each image.\n",
    "        captions_per_image: Dict[int, List[str]] = defaultdict(list)\n",
    "        for idx, ann in captions.items():\n",
    "            captions_per_image[ann['uuid']].append(ann['caption'])\n",
    "        #print(captions_per_image)\n",
    "\n",
    "        # Collect image file for each image (by its ID).\n",
    "        image_filepaths: Dict[int, str] = {\n",
    "            ann[\"uuid\"]: os.path.join(image_dir, f\"{ann['uuid']}.jpg\")\n",
    "            for idx, ann in captions.items()\n",
    "        }\n",
    "        # Keep all annotations in memory. Make a list of tuples, each tuple\n",
    "        # is ``(image_id, file_path, list[captions])``.\n",
    "        self.instances = [\n",
    "            (im_id, image_filepaths[im_id], captions_per_image[im_id])\n",
    "            for im_id in captions_per_image.keys()\n",
    "        ]\n",
    "\n",
    "    def __len__(self):\n",
    "        return len(self.instances)\n",
    "\n",
    "    def __getitem__(self, idx: int):\n",
    "        image_id, image_path, captions = self.instances[idx]\n",
    "\n",
    "        # shape: (height, width, channels), dtype: uint8\n",
    "        image = cv2.imread(image_path)\n",
    "        image = cv2.cvtColor(image, cv2.COLOR_BGR2RGB) # cv2.imread loads images in BGR (blue, green, red) order\n",
    "\n",
    "        return {\"image_id\": image_id, \"image\": image, \"captions\": captions}"
   ]
  },
  {
   "cell_type": "code",
   "execution_count": null,
   "id": "27f5ff33",
   "metadata": {},
   "outputs": [],
   "source": [
    "arch_pubmed_dataset = ArchPubmedCaptionsDataset('../datasets/ARCH')"
   ]
  },
  {
   "cell_type": "code",
   "execution_count": null,
   "id": "21f7eb37",
   "metadata": {},
   "outputs": [],
   "source": [
    "arch_pubmed_dataset.instances"
   ]
  },
  {
   "cell_type": "code",
   "execution_count": null,
   "id": "d54a1490",
   "metadata": {},
   "outputs": [],
   "source": [
    "test_instance = arch_pubmed_dataset.__getitem__(0)\n",
    "\n",
    "print(test_instance['image_id'])\n",
    "print(test_instance['image'].shape)\n",
    "\n",
    "\n",
    "plt.imshow(test_instance['image'])"
   ]
  },
  {
   "cell_type": "markdown",
   "id": "c9d63ad4",
   "metadata": {},
   "source": [
    "## Books Dataset"
   ]
  },
  {
   "cell_type": "code",
   "execution_count": null,
   "id": "9fe06c0f",
   "metadata": {},
   "outputs": [],
   "source": [
    "books_set_dir = '../datasets/ARCH/books_set'"
   ]
  },
  {
   "cell_type": "code",
   "execution_count": null,
   "id": "d75ae375",
   "metadata": {},
   "outputs": [],
   "source": [
    "os.listdir(books_set_dir)"
   ]
  },
  {
   "cell_type": "code",
   "execution_count": null,
   "id": "afd3ba3a",
   "metadata": {},
   "outputs": [],
   "source": [
    "os.listdir(books_set_dir +'/images')[:5]"
   ]
  },
  {
   "cell_type": "code",
   "execution_count": null,
   "id": "f074768e",
   "metadata": {},
   "outputs": [],
   "source": [
    "with open(f'{books_set_dir}/captions.json', 'r') as f:\n",
    "    books_captions = json.load(f)\n",
    "    \n",
    "books_captions"
   ]
  },
  {
   "cell_type": "code",
   "execution_count": null,
   "id": "137e11a8",
   "metadata": {},
   "outputs": [],
   "source": []
  },
  {
   "cell_type": "code",
   "execution_count": null,
   "id": "3b5182a5",
   "metadata": {},
   "outputs": [],
   "source": [
    "class ArchBooksCaptionsDataset(Dataset):\n",
    "    r\"\"\"\n",
    "    A PyTorch dataset to read ARCH Books dataset and provide it completely\n",
    "    unprocessed. This dataset is used by various task-specific datasets\n",
    "    in :mod:`~virtex.data.datasets` module.\n",
    "\n",
    "    Args:\n",
    "        data_root: Path to the ARCH dataset root directory.\n",
    "        split: Name of ARCH split to read. One of ``{\"train\", \"val\"}``.\n",
    "    \"\"\"\n",
    "\n",
    "    def __init__(self, data_root: str, split: str=''):\n",
    "\n",
    "#         TODO: change after splitting the caption files into train and validation\n",
    "#         \n",
    "#         # Get paths to image directory and annotation file.\n",
    "#         image_dir = os.path.join(data_root, \"pubmed_set/images\", f\"{split}\")\n",
    "#         captions = json.load(\n",
    "#             open(os.path.join(data_root, \"pubmed_set\", f\"captions_{split}.json\"))\n",
    "#         )\n",
    "        \n",
    "        # Get paths to image directory and annotation file.\n",
    "        image_dir = os.path.join(data_root, \"books_set/images\")\n",
    "        captions = json.load(\n",
    "            open(os.path.join(data_root, \"books_set\", \"captions.json\"))\n",
    "        )\n",
    "                \n",
    "        # Collect list of captions for each figure.\n",
    "        captions_per_figure: Dict[int, List[str]] = defaultdict(list)\n",
    "        for idx, ann in captions.items():\n",
    "            captions_per_figure[ann['figure_id']].append(ann['caption'])\n",
    "        #print(captions_per_image)\n",
    "        \n",
    "        # Collect image file for each image (by its ID).\n",
    "        image_filepaths: Dict[int, str] = {\n",
    "            ann[\"uuid\"]: os.path.join(image_dir, f\"{ann['uuid']}.png\")\n",
    "            for idx, ann in captions.items()\n",
    "        }\n",
    "            \n",
    "        # Collect list of images and image paths for each figure.\n",
    "        images_per_figure: Dict[int, List[str]] = defaultdict(list)\n",
    "        image_filepaths_per_figure: Dict[int, List[str]] = defaultdict(list)\n",
    "        for idx, ann in captions.items():\n",
    "            images_per_figure[ann['figure_id']].append(ann['uuid'])\n",
    "            image_filepaths_per_figure[ann['figure_id']].append(image_filepaths[ann[\"uuid\"]])\n",
    "        #print(captions_per_image)\n",
    "            \n",
    "        \n",
    "        # Keep all annotations in memory. Make a list of tuples, each tuple\n",
    "        # is ``(figure_id, list[img_ids], list[img_file_paths], list[captions])``.\n",
    "        self.instances = [\n",
    "            (figure_id, images_per_figure[figure_id],\n",
    "             image_filepaths_per_figure[figure_id], captions_per_figure[figure_id])\n",
    "            for figure_id in captions_per_figure.keys()\n",
    "        ]\n",
    "\n",
    "    def __len__(self):\n",
    "        return len(self.instances)\n",
    "\n",
    "    def __getitem__(self, idx: int):\n",
    "        figure_id, image_ids, image_paths, captions = self.instances[idx]\n",
    "        \n",
    "        images = []\n",
    "        for image_path in image_paths:\n",
    "            # shape: (height, width, channels), dtype: uint8\n",
    "            image = cv2.imread(image_path)\n",
    "            image = cv2.cvtColor(image, cv2.COLOR_BGR2RGB)\n",
    "            images.append(image)\n",
    "        \n",
    "        return {\"figure_id\": figure_id, \"image_ids\": image_ids, \"images\": images, \"captions\": captions}"
   ]
  },
  {
   "cell_type": "code",
   "execution_count": null,
   "id": "2d3f38dc",
   "metadata": {},
   "outputs": [],
   "source": [
    "arch_books_dataset = ArchBooksCaptionsDataset('../datasets/ARCH')\n",
    "arch_books_dataset.instances"
   ]
  },
  {
   "cell_type": "code",
   "execution_count": null,
   "id": "0f0a1ca1",
   "metadata": {},
   "outputs": [],
   "source": [
    "test_instance = arch_books_dataset.__getitem__(9)\n",
    "print(test_instance.keys())\n",
    "\n",
    "print('figure_id:', test_instance['figure_id'])\n",
    "print('image_ids:', test_instance['image_ids'])\n",
    "\n",
    "for image in test_instance['images']:\n",
    "    plt.imshow(image)\n",
    "    plt.show()\n",
    "    \n",
    "print('captions:\\n', '-'*80, '\\n', '\\n\\n'.join(test_instance['captions']))"
   ]
  },
  {
   "cell_type": "markdown",
   "id": "32f4d431",
   "metadata": {},
   "source": []
  },
  {
   "cell_type": "code",
   "execution_count": null,
   "id": "f6fd5a27",
   "metadata": {},
   "outputs": [],
   "source": []
  }
 ],
 "metadata": {
  "kernelspec": {
   "display_name": "Python [conda env:virtex] *",
   "language": "python",
   "name": "conda-env-virtex-py"
  },
  "language_info": {
   "codemirror_mode": {
    "name": "ipython",
    "version": 3
   },
   "file_extension": ".py",
   "mimetype": "text/x-python",
   "name": "python",
   "nbconvert_exporter": "python",
   "pygments_lexer": "ipython3",
   "version": "3.8.12"
  }
 },
 "nbformat": 4,
 "nbformat_minor": 5
}
