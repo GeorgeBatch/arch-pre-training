{
 "cells": [
  {
   "cell_type": "markdown",
   "id": "8ceb8ffc",
   "metadata": {},
   "source": [
    "# Make one json file with all annotations"
   ]
  },
  {
   "cell_type": "code",
   "execution_count": null,
   "id": "11a7800e",
   "metadata": {},
   "outputs": [],
   "source": [
    "import os\n",
    "import json\n",
    "\n",
    "import numpy as np\n",
    "import pandas as pd\n",
    "import matplotlib.pyplot as plt\n",
    "\n",
    "import cv2\n",
    "from PIL import Image\n",
    "import imageio, skimage\n",
    "\n",
    "from collections import Counter"
   ]
  },
  {
   "cell_type": "code",
   "execution_count": null,
   "outputs": [],
   "source": [
    "DATA_ROOT = \"datasets/ARCH\""
   ],
   "metadata": {
    "collapsed": false,
    "pycharm": {
     "name": "#%%\n"
    }
   }
  },
  {
   "cell_type": "code",
   "execution_count": null,
   "id": "ba08138b",
   "metadata": {},
   "outputs": [],
   "source": [
    "os.listdir(f'../{DATA_ROOT}')"
   ]
  },
  {
   "cell_type": "markdown",
   "id": "8e3bb5a1",
   "metadata": {},
   "source": [
    "## Books set"
   ]
  },
  {
   "cell_type": "code",
   "execution_count": null,
   "id": "0a21d655",
   "metadata": {},
   "outputs": [],
   "source": [
    "book_set_dir = f'../{DATA_ROOT}/books_set'\n",
    "os.listdir(book_set_dir)"
   ]
  },
  {
   "cell_type": "markdown",
   "id": "3351c33b",
   "metadata": {},
   "source": [
    "### Readme"
   ]
  },
  {
   "cell_type": "code",
   "execution_count": null,
   "id": "b39caae2",
   "metadata": {},
   "outputs": [],
   "source": [
    "!cat ../datasets/ARCH/books_set/README.md"
   ]
  },
  {
   "cell_type": "markdown",
   "id": "f3e41d57",
   "metadata": {},
   "source": [
    "### Images"
   ]
  },
  {
   "cell_type": "code",
   "execution_count": null,
   "id": "48303c1c",
   "metadata": {},
   "outputs": [],
   "source": [
    "bookset_image_dir = f'{book_set_dir}/images'\n",
    "len(os.listdir(bookset_image_dir))"
   ]
  },
  {
   "cell_type": "code",
   "execution_count": null,
   "id": "3760b13a",
   "metadata": {},
   "outputs": [],
   "source": [
    "bookset_uuids_to_extensions = {\n",
    "    file_name.split('.')[0]: file_name.split('.')[1]\n",
    "    for file_name in os.listdir(f'{book_set_dir}/images')\n",
    "}\n",
    "len(bookset_uuids_to_extensions)"
   ]
  },
  {
   "cell_type": "markdown",
   "id": "eb102c96",
   "metadata": {},
   "source": [
    "### Captions"
   ]
  },
  {
   "cell_type": "code",
   "execution_count": null,
   "id": "fa437a64",
   "metadata": {},
   "outputs": [],
   "source": [
    "with open(f'{book_set_dir}/captions.json', 'r') as f:\n",
    "    bookset_captions = json.load(f)\n",
    "len(bookset_captions)"
   ]
  },
  {
   "cell_type": "code",
   "execution_count": null,
   "id": "98d57a76",
   "metadata": {},
   "outputs": [],
   "source": [
    "bookset_captions"
   ]
  },
  {
   "cell_type": "code",
   "execution_count": null,
   "id": "b1b036d4",
   "metadata": {},
   "outputs": [],
   "source": [
    "bookset_captions_all_images_present = {idx: ann for (idx, ann) in bookset_captions.items()\n",
    "                                      if ann['uuid'] in bookset_uuids_to_extensions}\n",
    "len(bookset_captions_all_images_present)"
   ]
  },
  {
   "cell_type": "code",
   "execution_count": null,
   "id": "9ac77a1b",
   "metadata": {},
   "outputs": [],
   "source": [
    "bookset_captions_all_images_present"
   ]
  },
  {
   "cell_type": "markdown",
   "id": "049cd1ca",
   "metadata": {},
   "source": [
    "## PubMed Set"
   ]
  },
  {
   "cell_type": "code",
   "execution_count": null,
   "id": "c2423ad8",
   "metadata": {},
   "outputs": [],
   "source": [
    "pubmed_set_dir = f'../{DATA_ROOT}/pubmed_set'"
   ]
  },
  {
   "cell_type": "code",
   "execution_count": null,
   "id": "51a876d3",
   "metadata": {},
   "outputs": [],
   "source": [
    "os.listdir(pubmed_set_dir)"
   ]
  },
  {
   "cell_type": "markdown",
   "id": "c701ff92",
   "metadata": {},
   "source": [
    "### Readme"
   ]
  },
  {
   "cell_type": "code",
   "execution_count": null,
   "id": "f19e8567",
   "metadata": {},
   "outputs": [],
   "source": [
    "!cat ../datasets/ARCH/pubmed_set/README.md"
   ]
  },
  {
   "cell_type": "markdown",
   "id": "63fca433",
   "metadata": {},
   "source": [
    "### Images"
   ]
  },
  {
   "cell_type": "code",
   "execution_count": null,
   "id": "9ef00163",
   "metadata": {},
   "outputs": [],
   "source": [
    "pubmed_image_dir = f'{pubmed_set_dir}/images'\n",
    "len(os.listdir(pubmed_image_dir))"
   ]
  },
  {
   "cell_type": "code",
   "execution_count": null,
   "id": "87189c2f",
   "metadata": {},
   "outputs": [],
   "source": [
    "pubmed_uuids_to_extensions = {\n",
    "    file_name.split('.')[0]: file_name.split('.')[1]\n",
    "    for file_name in os.listdir(f'{pubmed_set_dir}/images')\n",
    "}\n",
    "len(pubmed_uuids_to_extensions)"
   ]
  },
  {
   "cell_type": "code",
   "execution_count": null,
   "id": "c1e89980",
   "metadata": {},
   "outputs": [],
   "source": []
  },
  {
   "cell_type": "code",
   "execution_count": null,
   "id": "84fe125c",
   "metadata": {},
   "outputs": [],
   "source": []
  },
  {
   "cell_type": "markdown",
   "id": "a46bdd38",
   "metadata": {},
   "source": [
    "### Captions"
   ]
  },
  {
   "cell_type": "code",
   "execution_count": null,
   "id": "078fa092",
   "metadata": {},
   "outputs": [],
   "source": [
    "with open(f'{pubmed_set_dir}/captions.json', 'r') as f:\n",
    "    pubmed_captions = json.load(f)\n",
    "\n",
    "pubmed_captions"
   ]
  },
  {
   "cell_type": "code",
   "execution_count": null,
   "id": "0ede2dbe",
   "metadata": {},
   "outputs": [],
   "source": [
    "pubmed_captions_all_images_present = {idx: ann for (idx, ann) in pubmed_captions.items()\n",
    "                                      if ann['uuid'] in pubmed_uuids_to_extensions}\n",
    "len(pubmed_captions_all_images_present)"
   ]
  },
  {
   "cell_type": "markdown",
   "id": "7c3ba0fd",
   "metadata": {},
   "source": [
    "## Unified Set"
   ]
  },
  {
   "cell_type": "markdown",
   "id": "7314988e",
   "metadata": {},
   "source": [
    "### Make unified set"
   ]
  },
  {
   "cell_type": "code",
   "execution_count": null,
   "id": "5b93588b",
   "metadata": {},
   "outputs": [],
   "source": [
    "arch_captions_all_images_present = {}\n",
    "\n",
    "i = 0\n",
    "for idx, ann in bookset_captions_all_images_present.items():\n",
    "    arch_captions_all_images_present[str(i)] = ann\n",
    "    \n",
    "    source = 'books'\n",
    "    arch_captions_all_images_present[str(i)]['source'] = source\n",
    "    \n",
    "    path = f\"{source}_set/images/{ann['uuid']}.{bookset_uuids_to_extensions[ann['uuid']]}\"\n",
    "    path_with_root = f\"../{DATA_ROOT}/{path}\"\n",
    "    assert os.path.exists(path_with_root), f\"{path_with_root}\"\n",
    "    arch_captions_all_images_present[str(i)]['path'] = path\n",
    "    \n",
    "    i += 1\n",
    "    \n",
    "for idx, ann in pubmed_captions_all_images_present.items():\n",
    "    arch_captions_all_images_present[str(i)] = ann\n",
    "    \n",
    "    arch_captions_all_images_present[str(i)]['letter'] = None\n",
    "    arch_captions_all_images_present[str(i)]['figure_id'] = None\n",
    "    \n",
    "    source = 'pubmed'\n",
    "    arch_captions_all_images_present[str(i)]['source'] = source\n",
    "    \n",
    "    path = f\"{source}_set/images/{ann['uuid']}.{pubmed_uuids_to_extensions[ann['uuid']]}\"\n",
    "    path_with_root = f\"../{DATA_ROOT}/{path}\"\n",
    "    assert os.path.exists(path_with_root), f\"{path_with_root}\"\n",
    "    arch_captions_all_images_present[str(i)]['path'] = path\n",
    "\n",
    "    i += 1\n",
    "    \n",
    "arch_captions_all_images_present"
   ]
  },
  {
   "cell_type": "code",
   "execution_count": null,
   "id": "c7cf7dc1",
   "metadata": {},
   "outputs": [],
   "source": [
    "arch_captions_all_images_present['0']"
   ]
  },
  {
   "cell_type": "code",
   "execution_count": null,
   "id": "c7287680",
   "metadata": {},
   "outputs": [],
   "source": [
    "arch_captions_all_images_present['4270']"
   ]
  },
  {
   "cell_type": "markdown",
   "id": "f3a7699a",
   "metadata": {},
   "source": [
    "### Save the unified set"
   ]
  },
  {
   "cell_type": "code",
   "execution_count": null,
   "id": "23045c0c",
   "metadata": {},
   "outputs": [],
   "source": [
    "%ls ../datasets/ARCH"
   ]
  },
  {
   "cell_type": "code",
   "execution_count": null,
   "id": "d0acba0b",
   "metadata": {},
   "outputs": [],
   "source": [
    "annotations_dir = f'../{DATA_ROOT}/annotations'\n",
    "if not os.path.exists(annotations_dir):\n",
    "    os.path.mkdir(annotations_dir)"
   ]
  },
  {
   "cell_type": "code",
   "execution_count": null,
   "id": "2a2c3c54",
   "metadata": {},
   "outputs": [],
   "source": [
    "with open(f'../{DATA_ROOT}/annotations/captions_all.json', 'w') as f:\n",
    "    json.dump(arch_captions_all_images_present, f)"
   ]
  },
  {
   "cell_type": "markdown",
   "id": "21d07823",
   "metadata": {},
   "source": [
    "### Check the unified dataset"
   ]
  },
  {
   "cell_type": "code",
   "execution_count": null,
   "id": "682783c9",
   "metadata": {},
   "outputs": [],
   "source": [
    "import json\n",
    "\n",
    "with open(f'../{DATA_ROOT}/annotations/captions_all.json', 'r') as f:\n",
    "    arch_captions_all_images_present = json.load(f)"
   ]
  },
  {
   "cell_type": "code",
   "execution_count": null,
   "id": "3b31750a",
   "metadata": {},
   "outputs": [],
   "source": [
    "import pandas as pd\n",
    "arch_captions_df = pd.DataFrame(arch_captions_all_images_present).T\n",
    "\n",
    "# check that the 'uuid'-s are unique and fine \n",
    "assert len(arch_captions_df.uuid) == arch_captions_df.uuid.nunique()"
   ]
  },
  {
   "cell_type": "code",
   "execution_count": null,
   "id": "d5db54c8",
   "metadata": {},
   "outputs": [],
   "source": [
    "arch_captions_df"
   ]
  },
  {
   "cell_type": "code",
   "execution_count": null,
   "id": "eda054c9",
   "metadata": {},
   "outputs": [],
   "source": [
    "arch_captions_df.nunique()"
   ]
  },
  {
   "cell_type": "markdown",
   "id": "ba253ea0",
   "metadata": {},
   "source": [
    "## Save a mapping of UUIDs to integers\n",
    "\n",
    "Not sure if it's better to do here or in the dataset class on the fly"
   ]
  },
  {
   "cell_type": "code",
   "execution_count": null,
   "id": "62dcbfb4",
   "metadata": {},
   "outputs": [],
   "source": [
    "\n",
    "\n",
    "# # create the mappings\n",
    "# uuids_to_ints = {}\n",
    "# ints_to_uuids = {}\n",
    "\n",
    "# # fill in the mappings\n",
    "# for idx, uuid in enumerate(arch_captions_df.uuid):\n",
    "#     #print(idx, uuid)\n",
    "#     uuids_to_ints[uuid] = idx\n",
    "#     ints_to_uuids[idx] = uuid\n",
    "    \n",
    "# # save the mappings\n",
    "# with open('../datasets/ARCH/annotations/uuids_to_ints.json', 'w') as f:\n",
    "#     json.dump(uuids_to_ints, f)\n",
    "# with open('../datasets/ARCH/annotations/ints_to_uuids.json', 'w') as f:\n",
    "#     json.dump(ints_to_uuids, f)\n",
    "    \n",
    "# print(\"Saved the mappings.\")"
   ]
  },
  {
   "cell_type": "code",
   "execution_count": null,
   "id": "b438203b",
   "metadata": {},
   "outputs": [],
   "source": [
    "import os\n",
    "os.listdir(f'../{DATA_ROOT}/annotations/')"
   ]
  },
  {
   "cell_type": "code",
   "execution_count": null,
   "id": "7b2574f0",
   "metadata": {},
   "outputs": [],
   "source": []
  }
 ],
 "metadata": {
  "kernelspec": {
   "name": "conda-env-virtex-py",
   "language": "python",
   "display_name": "Python [conda env:virtex] *"
  },
  "language_info": {
   "codemirror_mode": {
    "name": "ipython",
    "version": 3
   },
   "file_extension": ".py",
   "mimetype": "text/x-python",
   "name": "python",
   "nbconvert_exporter": "python",
   "pygments_lexer": "ipython3",
   "version": "3.8.12"
  }
 },
 "nbformat": 4,
 "nbformat_minor": 5
}