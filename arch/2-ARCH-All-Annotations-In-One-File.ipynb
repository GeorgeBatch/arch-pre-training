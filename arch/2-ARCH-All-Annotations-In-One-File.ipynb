{
 "cells": [
  {
   "cell_type": "markdown",
   "id": "8ceb8ffc",
   "metadata": {},
   "source": [
    "# Make one json file with all annotations"
   ]
  },
  {
   "cell_type": "code",
   "execution_count": null,
   "id": "11a7800e",
   "metadata": {},
   "outputs": [],
   "source": [
    "import os\n",
    "import json\n",
    "\n",
    "import numpy as np\n",
    "import pandas as pd\n",
    "import matplotlib.pyplot as plt\n",
    "\n",
    "import cv2\n",
    "from PIL import Image\n",
    "import imageio, skimage\n",
    "\n",
    "from collections import Counter"
   ]
  },
  {
   "cell_type": "code",
   "execution_count": null,
   "id": "ba08138b",
   "metadata": {},
   "outputs": [],
   "source": [
    "os.listdir('../datasets/ARCH')"
   ]
  },
  {
   "cell_type": "markdown",
   "id": "8e3bb5a1",
   "metadata": {},
   "source": [
    "## Books set"
   ]
  },
  {
   "cell_type": "code",
   "execution_count": null,
   "id": "0a21d655",
   "metadata": {},
   "outputs": [],
   "source": [
    "book_set_dir = '../datasets/ARCH/books_set'\n",
    "os.listdir(book_set_dir)"
   ]
  },
  {
   "cell_type": "markdown",
   "id": "3351c33b",
   "metadata": {},
   "source": [
    "### Readme"
   ]
  },
  {
   "cell_type": "code",
   "execution_count": null,
   "id": "b39caae2",
   "metadata": {},
   "outputs": [],
   "source": [
    "!cat ../datasets/ARCH/books_set/README.md"
   ]
  },
  {
   "cell_type": "markdown",
   "id": "f3e41d57",
   "metadata": {},
   "source": [
    "### Images"
   ]
  },
  {
   "cell_type": "code",
   "execution_count": null,
   "id": "48303c1c",
   "metadata": {},
   "outputs": [],
   "source": [
    "len(os.listdir(f'{book_set_dir}/images'))"
   ]
  },
  {
   "cell_type": "code",
   "execution_count": null,
   "id": "3760b13a",
   "metadata": {},
   "outputs": [],
   "source": [
    "bookset_image_uuids = [f_name.split('.')[0] for f_name in os.listdir(f'{book_set_dir}/images')]\n",
    "bookset_image_uuids_set = set(bookset_image_uuids)\n",
    "assert len(bookset_image_uuids) == len(bookset_image_uuids_set)\n",
    "\n",
    "len(bookset_image_uuids)"
   ]
  },
  {
   "cell_type": "markdown",
   "id": "eb102c96",
   "metadata": {},
   "source": [
    "### Captions"
   ]
  },
  {
   "cell_type": "code",
   "execution_count": null,
   "id": "fa437a64",
   "metadata": {},
   "outputs": [],
   "source": [
    "with open(f'{book_set_dir}/captions.json', 'r') as f:\n",
    "    bookset_captions = json.load(f)\n",
    "len(bookset_captions)"
   ]
  },
  {
   "cell_type": "code",
   "execution_count": null,
   "id": "98d57a76",
   "metadata": {},
   "outputs": [],
   "source": [
    "bookset_captions"
   ]
  },
  {
   "cell_type": "code",
   "execution_count": null,
   "id": "b1b036d4",
   "metadata": {},
   "outputs": [],
   "source": [
    "bookset_captions_all_images_present = {idx: ann for (idx, ann) in bookset_captions.items()\n",
    "                                      if ann['uuid'] in bookset_image_uuids_set}\n",
    "len(bookset_captions_all_images_present)"
   ]
  },
  {
   "cell_type": "code",
   "execution_count": null,
   "id": "9ac77a1b",
   "metadata": {},
   "outputs": [],
   "source": [
    "bookset_captions_all_images_present"
   ]
  },
  {
   "cell_type": "markdown",
   "id": "049cd1ca",
   "metadata": {},
   "source": [
    "## PubMed Set"
   ]
  },
  {
   "cell_type": "code",
   "execution_count": null,
   "id": "c2423ad8",
   "metadata": {},
   "outputs": [],
   "source": [
    "pubmed_set_dir = '../datasets/ARCH/pubmed_set'"
   ]
  },
  {
   "cell_type": "code",
   "execution_count": null,
   "id": "51a876d3",
   "metadata": {},
   "outputs": [],
   "source": [
    "os.listdir(pubmed_set_dir)"
   ]
  },
  {
   "cell_type": "markdown",
   "id": "c701ff92",
   "metadata": {},
   "source": [
    "### Readme"
   ]
  },
  {
   "cell_type": "code",
   "execution_count": null,
   "id": "f19e8567",
   "metadata": {},
   "outputs": [],
   "source": [
    "!cat ../datasets/ARCH/pubmed_set/README.md"
   ]
  },
  {
   "cell_type": "markdown",
   "id": "2ce9467b",
   "metadata": {},
   "source": [
    "### Images"
   ]
  },
  {
   "cell_type": "code",
   "execution_count": null,
   "id": "c1e89980",
   "metadata": {},
   "outputs": [],
   "source": [
    "len(os.listdir(f'{pubmed_set_dir}/images'))"
   ]
  },
  {
   "cell_type": "code",
   "execution_count": null,
   "id": "84fe125c",
   "metadata": {},
   "outputs": [],
   "source": [
    "pubmed_image_uuids = [f_name.split('.')[0] for f_name in os.listdir(f'{pubmed_set_dir}/images')]\n",
    "pubmed_image_uuids_set = set(pubmed_image_uuids)\n",
    "assert len(pubmed_image_uuids) == len(pubmed_image_uuids_set)\n",
    "\n",
    "len(pubmed_image_uuids)"
   ]
  },
  {
   "cell_type": "markdown",
   "id": "a46bdd38",
   "metadata": {},
   "source": [
    "### Captions"
   ]
  },
  {
   "cell_type": "code",
   "execution_count": null,
   "id": "078fa092",
   "metadata": {},
   "outputs": [],
   "source": [
    "with open(f'{pubmed_set_dir}/captions.json', 'r') as f:\n",
    "    pubmed_captions = json.load(f)\n",
    "\n",
    "pubmed_captions"
   ]
  },
  {
   "cell_type": "code",
   "execution_count": null,
   "id": "0ede2dbe",
   "metadata": {},
   "outputs": [],
   "source": [
    "pubmed_captions_all_images_present = {idx: ann for (idx, ann) in pubmed_captions.items()\n",
    "                                      if ann['uuid'] in pubmed_image_uuids_set}\n",
    "len(pubmed_captions_all_images_present)"
   ]
  },
  {
   "cell_type": "markdown",
   "id": "7c3ba0fd",
   "metadata": {},
   "source": [
    "## Unified Set"
   ]
  },
  {
   "cell_type": "markdown",
   "id": "7314988e",
   "metadata": {},
   "source": [
    "### Make unified set"
   ]
  },
  {
   "cell_type": "code",
   "execution_count": null,
   "id": "5b93588b",
   "metadata": {},
   "outputs": [],
   "source": [
    "arch_captions_all_images_present = {}\n",
    "\n",
    "i = 0\n",
    "for idx, ann in bookset_captions_all_images_present.items():\n",
    "    arch_captions_all_images_present[str(i)] = ann\n",
    "    arch_captions_all_images_present[str(i)]['source'] = 'books'\n",
    "    i += 1\n",
    "    \n",
    "for idx, ann in pubmed_captions_all_images_present.items():\n",
    "    arch_captions_all_images_present[str(i)] = ann\n",
    "    arch_captions_all_images_present[str(i)]['letter'] = None\n",
    "    arch_captions_all_images_present[str(i)]['figure_id'] = None\n",
    "    arch_captions_all_images_present[str(i)]['source'] = 'pubmed'\n",
    "    i += 1\n",
    "    \n",
    "arch_captions_all_images_present"
   ]
  },
  {
   "cell_type": "code",
   "execution_count": null,
   "id": "c7cf7dc1",
   "metadata": {},
   "outputs": [],
   "source": [
    "arch_captions_all_images_present['0']"
   ]
  },
  {
   "cell_type": "code",
   "execution_count": null,
   "id": "c7287680",
   "metadata": {},
   "outputs": [],
   "source": [
    "arch_captions_all_images_present['4270']"
   ]
  },
  {
   "cell_type": "markdown",
   "id": "f3a7699a",
   "metadata": {},
   "source": [
    "### Save the unified set"
   ]
  },
  {
   "cell_type": "code",
   "execution_count": null,
   "id": "23045c0c",
   "metadata": {},
   "outputs": [],
   "source": [
    "%ls ../datasets/ARCH"
   ]
  },
  {
   "cell_type": "code",
   "execution_count": null,
   "id": "d0acba0b",
   "metadata": {},
   "outputs": [],
   "source": [
    "annotations_dir = '../datasets/ARCH/annotations'\n",
    "if not os.path.exists(annotations_dir):\n",
    "    os.path.mkdir(annotations_dir)"
   ]
  },
  {
   "cell_type": "code",
   "execution_count": null,
   "id": "2a2c3c54",
   "metadata": {},
   "outputs": [],
   "source": [
    "with open('../datasets/ARCH/annotations/captions_all.json', 'w') as f:\n",
    "    json.dump(arch_captions_all_images_present, f)"
   ]
  },
  {
   "cell_type": "markdown",
   "id": "21d07823",
   "metadata": {},
   "source": [
    "### Check the unified dataset"
   ]
  },
  {
   "cell_type": "code",
   "execution_count": null,
   "id": "3b31750a",
   "metadata": {},
   "outputs": [],
   "source": [
    "arch_captions_df = pd.DataFrame(arch_captions_all_images_present).T\n",
    "\n",
    "# check that the 'uuid'-s are unique and fine \n",
    "assert len(arch_captions_df.uuid) == arch_captions_df.uuid.nunique()"
   ]
  },
  {
   "cell_type": "code",
   "execution_count": null,
   "id": "d5db54c8",
   "metadata": {},
   "outputs": [],
   "source": [
    "arch_captions_df"
   ]
  },
  {
   "cell_type": "code",
   "execution_count": null,
   "id": "eda054c9",
   "metadata": {},
   "outputs": [],
   "source": [
    "arch_captions_df.nunique()"
   ]
  },
  {
   "cell_type": "code",
   "execution_count": null,
   "id": "903ad1ab",
   "metadata": {},
   "outputs": [],
   "source": []
  }
 ],
 "metadata": {
  "kernelspec": {
   "display_name": "Python [conda env:virtex] *",
   "language": "python",
   "name": "conda-env-virtex-py"
  },
  "language_info": {
   "codemirror_mode": {
    "name": "ipython",
    "version": 3
   },
   "file_extension": ".py",
   "mimetype": "text/x-python",
   "name": "python",
   "nbconvert_exporter": "python",
   "pygments_lexer": "ipython3",
   "version": "3.8.12"
  }
 },
 "nbformat": 4,
 "nbformat_minor": 5
}
