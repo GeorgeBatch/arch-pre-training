{
 "cells": [
  {
   "cell_type": "markdown",
   "id": "8ceb8ffc",
   "metadata": {},
   "source": [
    "# Split into Train and Val"
   ]
  },
  {
   "cell_type": "code",
   "execution_count": null,
   "id": "11a7800e",
   "metadata": {},
   "outputs": [],
   "source": [
    "import os\n",
    "import json\n",
    "\n",
    "import numpy as np\n",
    "import pandas as pd\n",
    "import matplotlib.pyplot as plt\n",
    "\n",
    "import cv2\n",
    "from PIL import Image\n",
    "import imageio, skimage\n",
    "\n",
    "from collections import Counter\n",
    "\n",
    "# train-val split\n",
    "from sklearn.model_selection import train_test_split, GroupShuffleSplit"
   ]
  },
  {
   "cell_type": "code",
   "execution_count": null,
   "id": "8f6a2fcc",
   "metadata": {},
   "outputs": [],
   "source": []
  },
  {
   "cell_type": "code",
   "execution_count": null,
   "id": "ba08138b",
   "metadata": {},
   "outputs": [],
   "source": [
    "os.listdir('../datasets/ARCH')"
   ]
  },
  {
   "cell_type": "code",
   "execution_count": null,
   "id": "e98546ed",
   "metadata": {},
   "outputs": [],
   "source": [
    "os.listdir('../datasets/ARCH/annotations/')"
   ]
  },
  {
   "cell_type": "code",
   "execution_count": null,
   "id": "683e9a22",
   "metadata": {},
   "outputs": [],
   "source": []
  },
  {
   "cell_type": "code",
   "execution_count": null,
   "id": "db728f79",
   "metadata": {},
   "outputs": [],
   "source": [
    "RANDOM_STATE = 42\n",
    "TEST_SIZE = 0.2"
   ]
  },
  {
   "cell_type": "code",
   "execution_count": null,
   "id": "f56ec173",
   "metadata": {},
   "outputs": [],
   "source": []
  },
  {
   "cell_type": "markdown",
   "id": "9ebc9562",
   "metadata": {},
   "source": [
    "## Unified Set"
   ]
  },
  {
   "cell_type": "code",
   "execution_count": null,
   "id": "6f719f63",
   "metadata": {},
   "outputs": [],
   "source": [
    "with open('../datasets/ARCH/annotations/captions_all.json', 'r') as f:\n",
    "    arch_captions = json.load(f)"
   ]
  },
  {
   "cell_type": "markdown",
   "id": "20c75cce",
   "metadata": {},
   "source": [
    "### Check the unified dataset"
   ]
  },
  {
   "cell_type": "code",
   "execution_count": null,
   "id": "4bdce7ab",
   "metadata": {},
   "outputs": [],
   "source": [
    "arch_captions_df = pd.DataFrame(arch_captions).T\n",
    "\n",
    "# check that the 'uuid'-s are unique and fine \n",
    "assert len(arch_captions_df.uuid) == arch_captions_df.uuid.nunique()"
   ]
  },
  {
   "cell_type": "code",
   "execution_count": null,
   "id": "4b9fd93c",
   "metadata": {},
   "outputs": [],
   "source": [
    "arch_captions_df"
   ]
  },
  {
   "cell_type": "markdown",
   "id": "a3dea9df",
   "metadata": {},
   "source": [
    "## Split the unified set into `books` and `pubmed` sets"
   ]
  },
  {
   "cell_type": "code",
   "execution_count": null,
   "id": "016b3d8d",
   "metadata": {},
   "outputs": [],
   "source": [
    "# `inplace=False`: keep the index column to be able to connect with the file with all annotations\n",
    "\n",
    "books_captions_df = arch_captions_df[arch_captions_df.source == 'books']\n",
    "books_captions_df = books_captions_df.reset_index(inplace=False)\n",
    "\n",
    "pubmed_captions_df = arch_captions_df[arch_captions_df.source == 'pubmed']\n",
    "pubmed_captions_df = pubmed_captions_df.reset_index(inplace=False)"
   ]
  },
  {
   "cell_type": "code",
   "execution_count": null,
   "id": "739699e7",
   "metadata": {},
   "outputs": [],
   "source": [
    "books_captions_df"
   ]
  },
  {
   "cell_type": "code",
   "execution_count": null,
   "id": "f0d051d7",
   "metadata": {},
   "outputs": [],
   "source": [
    "pubmed_captions_df"
   ]
  },
  {
   "cell_type": "code",
   "execution_count": null,
   "id": "4f21a818",
   "metadata": {},
   "outputs": [],
   "source": [
    "arch_captions_df.nunique()"
   ]
  },
  {
   "cell_type": "markdown",
   "id": "a5d7be3c",
   "metadata": {},
   "source": [
    "## Make the Train/Val splits"
   ]
  },
  {
   "cell_type": "code",
   "execution_count": null,
   "id": "8b31835f",
   "metadata": {},
   "outputs": [],
   "source": [
    "my_split = GroupShuffleSplit(n_splits=1, test_size=TEST_SIZE, random_state=RANDOM_STATE)\n",
    "pubmed_train_idxs, pubmed_val_idxs  = next(iter(\n",
    "    my_split.split(pubmed_captions_df, groups=pubmed_captions_df.caption)\n",
    "))\n",
    "\n",
    "pubmed_train = pubmed_captions_df.iloc[pubmed_train_idxs]\n",
    "pubmed_val = pubmed_captions_df.iloc[pubmed_val_idxs]\n",
    "\n",
    "# no captions should be in both sets\n",
    "assert len(set(pubmed_train.caption).intersection(set(pubmed_val.caption))) == 0"
   ]
  },
  {
   "cell_type": "code",
   "execution_count": null,
   "id": "e8b68c9e",
   "metadata": {},
   "outputs": [],
   "source": [
    "pubmed_train"
   ]
  },
  {
   "cell_type": "code",
   "execution_count": null,
   "id": "55334612",
   "metadata": {},
   "outputs": [],
   "source": [
    "pubmed_val"
   ]
  },
  {
   "cell_type": "code",
   "execution_count": null,
   "id": "31158bd9",
   "metadata": {},
   "outputs": [],
   "source": [
    "len(pubmed_val)/ (len(pubmed_train) + len(pubmed_val))"
   ]
  },
  {
   "cell_type": "code",
   "execution_count": null,
   "id": "f036b1d7",
   "metadata": {},
   "outputs": [],
   "source": [
    "my_split = GroupShuffleSplit(n_splits=1, test_size=TEST_SIZE, random_state=RANDOM_STATE)\n",
    "books_train_idxs, books_val_idxs  = next(iter(my_split.split(books_captions_df, groups=books_captions_df.caption)))\n",
    "\n",
    "books_train = books_captions_df.iloc[books_train_idxs]\n",
    "books_val = books_captions_df.iloc[books_val_idxs]\n",
    "\n",
    "# no captions should be in both sets\n",
    "assert len(set(books_train.caption).intersection(set(books_val.caption))) == 0"
   ]
  },
  {
   "cell_type": "code",
   "execution_count": null,
   "id": "3d46037f",
   "metadata": {},
   "outputs": [],
   "source": [
    "books_train"
   ]
  },
  {
   "cell_type": "code",
   "execution_count": null,
   "id": "49aacbe9",
   "metadata": {},
   "outputs": [],
   "source": [
    "books_val"
   ]
  },
  {
   "cell_type": "code",
   "execution_count": null,
   "id": "e4ba76ba",
   "metadata": {},
   "outputs": [],
   "source": [
    "len(books_val)/ (len(books_train) + len(books_val))"
   ]
  },
  {
   "cell_type": "markdown",
   "id": "76e2c275",
   "metadata": {},
   "source": [
    "## Record the splits in `.json` files"
   ]
  },
  {
   "cell_type": "code",
   "execution_count": null,
   "id": "539cb746",
   "metadata": {},
   "outputs": [],
   "source": [
    "arch_captions_train = {}\n",
    "\n",
    "for _, row in books_train.iterrows():\n",
    "    idx, figure_id, letter, caption, uuid, source = row\n",
    "    assert str(idx) not in arch_captions_train.keys()\n",
    "    arch_captions_train[str(idx)] = {}\n",
    "    \n",
    "    arch_captions_train[str(idx)]['figure_id'] = figure_id\n",
    "    arch_captions_train[str(idx)]['letter'] = letter\n",
    "    arch_captions_train[str(idx)]['caption'] = caption\n",
    "    arch_captions_train[str(idx)]['uuid'] = uuid\n",
    "    arch_captions_train[str(idx)]['source'] = source\n",
    "    \n",
    "for _, row in pubmed_train.iterrows():\n",
    "    idx, figure_id, letter, caption, uuid, source = row\n",
    "    assert str(idx) not in arch_captions_train.keys()\n",
    "    arch_captions_train[str(idx)] = {}\n",
    "    \n",
    "    arch_captions_train[str(idx)]['figure_id'] = figure_id\n",
    "    arch_captions_train[str(idx)]['letter'] = letter\n",
    "    arch_captions_train[str(idx)]['caption'] = caption\n",
    "    arch_captions_train[str(idx)]['uuid'] = uuid\n",
    "    arch_captions_train[str(idx)]['source'] = source\n",
    "\n",
    "    \n",
    "arch_captions_train"
   ]
  },
  {
   "cell_type": "code",
   "execution_count": null,
   "id": "1b51d838",
   "metadata": {},
   "outputs": [],
   "source": [
    "arch_captions_val = {}\n",
    "\n",
    "for _, row in books_val.iterrows():\n",
    "    idx, figure_id, letter, caption, uuid, source = row\n",
    "    assert str(idx) not in arch_captions_val.keys()\n",
    "    arch_captions_val[str(idx)] = {}\n",
    "    \n",
    "    arch_captions_val[str(idx)]['figure_id'] = figure_id\n",
    "    arch_captions_val[str(idx)]['letter'] = letter\n",
    "    arch_captions_val[str(idx)]['caption'] = caption\n",
    "    arch_captions_val[str(idx)]['uuid'] = uuid\n",
    "    arch_captions_val[str(idx)]['source'] = source\n",
    "    \n",
    "for _, row in pubmed_val.iterrows():\n",
    "    idx, figure_id, letter, caption, uuid, source = row\n",
    "    assert str(idx) not in arch_captions_val.keys()\n",
    "    arch_captions_val[str(idx)] = {}\n",
    "    \n",
    "    arch_captions_val[str(idx)]['figure_id'] = figure_id\n",
    "    arch_captions_val[str(idx)]['letter'] = letter\n",
    "    arch_captions_val[str(idx)]['caption'] = caption\n",
    "    arch_captions_val[str(idx)]['uuid'] = uuid\n",
    "    arch_captions_val[str(idx)]['source'] = source\n",
    "\n",
    "    \n",
    "arch_captions_val"
   ]
  },
  {
   "cell_type": "code",
   "execution_count": null,
   "id": "a122a9be",
   "metadata": {},
   "outputs": [],
   "source": [
    "# check result\n",
    "\n",
    "# non-intersecting indexes\n",
    "assert len(set(arch_captions_train.keys()).intersection(set(arch_captions_val.keys()))) == 0\n",
    "# union of indexes gives the indexes of the whole dataset\n",
    "assert set(arch_captions_train.keys()).union(set(arch_captions_val.keys())) == set(arch_captions.keys())\n",
    "# union of the 2 dictionaries gives the overall dictionary\n",
    "assert {**arch_captions_train, **arch_captions_val} == arch_captions"
   ]
  },
  {
   "cell_type": "markdown",
   "id": "3283878b",
   "metadata": {},
   "source": [
    "## Save the Train and Val json files"
   ]
  },
  {
   "cell_type": "code",
   "execution_count": null,
   "id": "692ef93e",
   "metadata": {},
   "outputs": [],
   "source": [
    "with open('../datasets/ARCH/annotations/captions_train.json', 'w') as f:\n",
    "    json.dump(arch_captions_train, f)\n",
    "    \n",
    "with open('../datasets/ARCH/annotations/captions_val.json', 'w') as f:\n",
    "    json.dump(arch_captions_val, f)"
   ]
  },
  {
   "cell_type": "markdown",
   "id": "252f9ec9",
   "metadata": {},
   "source": [
    "## Check the saved datasets"
   ]
  },
  {
   "cell_type": "code",
   "execution_count": null,
   "id": "f8dcffbd",
   "metadata": {},
   "outputs": [],
   "source": [
    "with open('../datasets/ARCH/annotations/captions_all.json', 'r') as f:\n",
    "    arch_captions_all = json.load(f)\n",
    "\n",
    "with open('../datasets/ARCH/annotations/captions_train.json', 'r') as f:\n",
    "    arch_captions_train = json.load(f)\n",
    "    \n",
    "with open('../datasets/ARCH/annotations/captions_val.json', 'r') as f:\n",
    "    arch_captions_val = json.load(f)\n",
    "    \n",
    "# check the split makes the whole dictinary\n",
    "assert {**arch_captions_train, **arch_captions_val} == arch_captions_all\n",
    "# non-intersecting indexes\n",
    "assert len(set(arch_captions_train.keys()).intersection(set(arch_captions_val.keys()))) == 0\n",
    "# union of indexes gives the indexes of the whole dataset\n",
    "assert set(arch_captions_train.keys()).union(set(arch_captions_val.keys())) == set(arch_captions_all.keys())"
   ]
  },
  {
   "cell_type": "code",
   "execution_count": null,
   "id": "c34516d3",
   "metadata": {},
   "outputs": [],
   "source": [
    "len(arch_captions_val) / (len(arch_captions_val) + len(arch_captions_train))"
   ]
  },
  {
   "cell_type": "code",
   "execution_count": null,
   "id": "8d7ed904",
   "metadata": {},
   "outputs": [],
   "source": []
  }
 ],
 "metadata": {
  "kernelspec": {
   "display_name": "Python [conda env:virtex] *",
   "language": "python",
   "name": "conda-env-virtex-py"
  },
  "language_info": {
   "codemirror_mode": {
    "name": "ipython",
    "version": 3
   },
   "file_extension": ".py",
   "mimetype": "text/x-python",
   "name": "python",
   "nbconvert_exporter": "python",
   "pygments_lexer": "ipython3",
   "version": "3.8.12"
  }
 },
 "nbformat": 4,
 "nbformat_minor": 5
}
