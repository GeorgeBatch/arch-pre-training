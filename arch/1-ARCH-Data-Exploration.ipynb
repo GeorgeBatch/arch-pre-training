{
 "cells": [
  {
   "cell_type": "code",
   "execution_count": null,
   "id": "1fa0983d",
   "metadata": {},
   "outputs": [],
   "source": [
    "import os\n",
    "import json\n",
    "\n",
    "import numpy as np\n",
    "import pandas as pd\n",
    "import matplotlib.pyplot as plt\n",
    "\n",
    "import cv2\n",
    "from PIL import Image\n",
    "import imageio, skimage\n",
    "\n",
    "from collections import Counter"
   ]
  },
  {
   "cell_type": "code",
   "execution_count": null,
   "id": "be4807ae",
   "metadata": {},
   "outputs": [],
   "source": []
  },
  {
   "cell_type": "code",
   "execution_count": null,
   "id": "e83c90be",
   "metadata": {},
   "outputs": [],
   "source": [
    "def show_book_figure(fugire_id: str):\n",
    "    print('fugire_id:', fugire_id)\n",
    "    display(bookset_captions_df[bookset_captions_df['figure_id'] == fugire_id])\n",
    "\n",
    "    for i, row in bookset_captions_df[bookset_captions_df.figure_id == fugire_id].sort_values(by='letter').iterrows():\n",
    "        letter = row[1]\n",
    "        img_uuid = row[3]\n",
    "        print(letter, ':', img_uuid)\n",
    "\n",
    "        img = imageio.imread(f\"{book_set_dir}/images/{img_uuid}.png\")\n",
    "        plt.imshow(img)\n",
    "        plt.show()"
   ]
  },
  {
   "cell_type": "code",
   "execution_count": null,
   "id": "b51a14e2",
   "metadata": {},
   "outputs": [],
   "source": [
    "def counter_to_dataframe(c: Counter):\n",
    "\n",
    "    bag_sizes_to_freqs = {\n",
    "        'bag_size': [],\n",
    "        'freq': []\n",
    "    }\n",
    "\n",
    "    for bag_size, freq in c.items():\n",
    "        bag_sizes_to_freqs['bag_size'].append(bag_size)\n",
    "        bag_sizes_to_freqs['freq'].append(freq)\n",
    "\n",
    "    bag_sizes_to_freqs_df = pd.DataFrame(bag_sizes_to_freqs).sort_values(by='bag_size')\n",
    "    bag_sizes_to_freqs_df = bag_sizes_to_freqs_df.set_index('bag_size')\n",
    "    display(bag_sizes_to_freqs_df)"
   ]
  },
  {
   "cell_type": "code",
   "execution_count": null,
   "id": "34e160cd",
   "metadata": {},
   "outputs": [],
   "source": []
  },
  {
   "cell_type": "code",
   "execution_count": null,
   "id": "5d350bcc",
   "metadata": {},
   "outputs": [],
   "source": [
    "os.listdir('../datasets/ARCH')"
   ]
  },
  {
   "cell_type": "markdown",
   "id": "9c5cfe05",
   "metadata": {},
   "source": [
    "## Books set"
   ]
  },
  {
   "cell_type": "code",
   "execution_count": null,
   "id": "1cbaac59",
   "metadata": {},
   "outputs": [],
   "source": [
    "book_set_dir = '../datasets/ARCH/books_set'\n",
    "os.listdir(book_set_dir)"
   ]
  },
  {
   "cell_type": "markdown",
   "id": "e20bd3dd",
   "metadata": {},
   "source": [
    "### Readme"
   ]
  },
  {
   "cell_type": "code",
   "execution_count": null,
   "id": "2511a7e6",
   "metadata": {},
   "outputs": [],
   "source": [
    "!cat ../datasets/ARCH/books_set/README.md"
   ]
  },
  {
   "cell_type": "markdown",
   "id": "387e9891",
   "metadata": {},
   "source": [
    "### Images"
   ]
  },
  {
   "cell_type": "code",
   "execution_count": null,
   "id": "f3fbe447",
   "metadata": {},
   "outputs": [],
   "source": [
    "len(os.listdir(f'{book_set_dir}/images'))"
   ]
  },
  {
   "cell_type": "code",
   "execution_count": null,
   "id": "08f0136e",
   "metadata": {},
   "outputs": [],
   "source": [
    "bookset_image_uuids = [f_name.split('.')[0] for f_name in os.listdir(f'{book_set_dir}/images')]\n",
    "assert len(bookset_image_uuids) == len(set(bookset_image_uuids))\n",
    "\n",
    "len(bookset_image_uuids)"
   ]
  },
  {
   "cell_type": "markdown",
   "id": "b74b06fe",
   "metadata": {},
   "source": [
    "### Captions"
   ]
  },
  {
   "cell_type": "code",
   "execution_count": null,
   "id": "ad7bc581",
   "metadata": {},
   "outputs": [],
   "source": [
    "with open(f'{book_set_dir}/captions.json', 'r') as f:\n",
    "    bookset_captions = json.load(f)\n",
    "\n",
    "bookset_captions_df = pd.DataFrame(bookset_captions).T"
   ]
  },
  {
   "cell_type": "code",
   "execution_count": null,
   "id": "60093cf7",
   "metadata": {},
   "outputs": [],
   "source": [
    "bookset_captions_df"
   ]
  },
  {
   "cell_type": "code",
   "execution_count": null,
   "id": "7d9f9d14",
   "metadata": {},
   "outputs": [],
   "source": [
    "set(bookset_image_uuids).issubset(set(bookset_captions_df.uuid))"
   ]
  },
  {
   "cell_type": "markdown",
   "id": "fd261836",
   "metadata": {},
   "source": [
    "Captions are available for all available images."
   ]
  },
  {
   "cell_type": "code",
   "execution_count": null,
   "id": "31f2ecf1",
   "metadata": {},
   "outputs": [],
   "source": [
    "missing_image_uuids = set(bookset_captions_df.uuid) - set(bookset_image_uuids)\n",
    "len(missing_image_uuids)"
   ]
  },
  {
   "cell_type": "code",
   "execution_count": null,
   "id": "c61a4364",
   "metadata": {},
   "outputs": [],
   "source": [
    "missing_image_uuids"
   ]
  },
  {
   "cell_type": "code",
   "execution_count": null,
   "id": "d690f67a",
   "metadata": {},
   "outputs": [],
   "source": []
  },
  {
   "cell_type": "markdown",
   "id": "bf82fe1c",
   "metadata": {},
   "source": [
    "There are also 35 missing images present"
   ]
  },
  {
   "cell_type": "code",
   "execution_count": null,
   "id": "901ddc71",
   "metadata": {},
   "outputs": [],
   "source": []
  },
  {
   "cell_type": "code",
   "execution_count": null,
   "id": "874323c6",
   "metadata": {},
   "outputs": [],
   "source": [
    "bookset_captions_df.nunique()"
   ]
  },
  {
   "cell_type": "code",
   "execution_count": null,
   "id": "e9231824",
   "metadata": {},
   "outputs": [],
   "source": []
  },
  {
   "cell_type": "code",
   "execution_count": null,
   "id": "6ecd7b6c",
   "metadata": {},
   "outputs": [],
   "source": [
    "# use only the information about the images present in the ..datasets/ARCH/books_set/images/\n",
    "bookset_captions_df[bookset_captions_df.uuid.isin(bookset_image_uuids)].letter.value_counts()"
   ]
  },
  {
   "cell_type": "markdown",
   "id": "bfb2b53b",
   "metadata": {},
   "source": [
    "**Not all bags start with \"A\"! Do not use these numbers for information on frequencies of bag sizes.**"
   ]
  },
  {
   "cell_type": "code",
   "execution_count": null,
   "id": "697d881c",
   "metadata": {},
   "outputs": [],
   "source": []
  },
  {
   "cell_type": "code",
   "execution_count": null,
   "id": "cf9748b1",
   "metadata": {},
   "outputs": [],
   "source": []
  },
  {
   "cell_type": "code",
   "execution_count": null,
   "id": "b4d0a51a",
   "metadata": {},
   "outputs": [],
   "source": [
    "bookset_captions_df[bookset_captions_df['figure_id'] == '00']"
   ]
  },
  {
   "cell_type": "code",
   "execution_count": null,
   "id": "06d1de2c",
   "metadata": {},
   "outputs": [],
   "source": [
    "bookset_captions_df[bookset_captions_df['figure_id'] == '00'].caption[0]"
   ]
  },
  {
   "cell_type": "markdown",
   "id": "718ef144",
   "metadata": {},
   "source": [
    "### Examples"
   ]
  },
  {
   "cell_type": "markdown",
   "id": "55b4d141",
   "metadata": {},
   "source": [
    "#### Single"
   ]
  },
  {
   "cell_type": "code",
   "execution_count": null,
   "id": "576e4368",
   "metadata": {},
   "outputs": [],
   "source": [
    "show_book_figure('01')"
   ]
  },
  {
   "cell_type": "code",
   "execution_count": null,
   "id": "6140d3ff",
   "metadata": {},
   "outputs": [],
   "source": []
  },
  {
   "cell_type": "markdown",
   "id": "481e5100",
   "metadata": {},
   "source": [
    "#### 2 images"
   ]
  },
  {
   "cell_type": "code",
   "execution_count": null,
   "id": "dff73c88",
   "metadata": {},
   "outputs": [],
   "source": [
    "show_book_figure('00')"
   ]
  },
  {
   "cell_type": "code",
   "execution_count": null,
   "id": "4fac2f09",
   "metadata": {},
   "outputs": [],
   "source": []
  },
  {
   "cell_type": "code",
   "execution_count": null,
   "id": "1a3a5418",
   "metadata": {},
   "outputs": [],
   "source": []
  },
  {
   "cell_type": "markdown",
   "id": "b5d8cd0f",
   "metadata": {},
   "source": [
    "Figure ID `figure_id` determines the **bucket**"
   ]
  },
  {
   "cell_type": "markdown",
   "id": "558724ec",
   "metadata": {},
   "source": [
    "#### Has \"L\" in the index"
   ]
  },
  {
   "cell_type": "code",
   "execution_count": null,
   "id": "fbb0ab93",
   "metadata": {},
   "outputs": [],
   "source": [
    "L_item_figure_id = bookset_captions_df[bookset_captions_df['letter'] == 'L'].figure_id.item()\n",
    "L_item_figure_id"
   ]
  },
  {
   "cell_type": "code",
   "execution_count": null,
   "id": "5bf1eb07",
   "metadata": {
    "scrolled": false
   },
   "outputs": [],
   "source": [
    "show_book_figure(L_item_figure_id)"
   ]
  },
  {
   "cell_type": "markdown",
   "id": "7b1f6e76",
   "metadata": {},
   "source": [
    "### Number of images per bag"
   ]
  },
  {
   "cell_type": "code",
   "execution_count": null,
   "id": "02b4f414",
   "metadata": {},
   "outputs": [],
   "source": []
  },
  {
   "cell_type": "code",
   "execution_count": null,
   "id": "a5cd6bd9",
   "metadata": {},
   "outputs": [],
   "source": [
    "Counter(Counter(bookset_captions_df.figure_id).values())"
   ]
  },
  {
   "cell_type": "code",
   "execution_count": null,
   "id": "85493c85",
   "metadata": {},
   "outputs": [],
   "source": [
    "counter_to_dataframe(Counter(Counter(bookset_captions_df.figure_id).values()))"
   ]
  },
  {
   "cell_type": "code",
   "execution_count": null,
   "id": "29b384ef",
   "metadata": {},
   "outputs": [],
   "source": [
    "bookset_captions_df.nunique()"
   ]
  },
  {
   "cell_type": "code",
   "execution_count": null,
   "id": "735e67f6",
   "metadata": {},
   "outputs": [],
   "source": []
  },
  {
   "cell_type": "code",
   "execution_count": null,
   "id": "4cb55109",
   "metadata": {},
   "outputs": [],
   "source": [
    "# use only the information about the images present in the ..datasets/ARCH/books_set/images/\n",
    "bookset_captions_all_images_present_df = bookset_captions_df[bookset_captions_df.uuid.isin(bookset_image_uuids)]\n",
    "counter_to_dataframe(Counter(Counter(bookset_captions_all_images_present_df.figure_id).values()))"
   ]
  },
  {
   "cell_type": "code",
   "execution_count": null,
   "id": "9a533ae8",
   "metadata": {},
   "outputs": [],
   "source": [
    "bookset_captions_all_images_present_df.nunique()"
   ]
  },
  {
   "cell_type": "code",
   "execution_count": null,
   "id": "7e59491b",
   "metadata": {},
   "outputs": [],
   "source": []
  },
  {
   "cell_type": "code",
   "execution_count": null,
   "id": "1057dd76",
   "metadata": {},
   "outputs": [],
   "source": [
    "[key for key, value in Counter(bookset_captions_df.figure_id).items() if value == 9]"
   ]
  },
  {
   "cell_type": "code",
   "execution_count": null,
   "id": "0e59ac37",
   "metadata": {},
   "outputs": [],
   "source": []
  },
  {
   "cell_type": "markdown",
   "id": "e5a22c94",
   "metadata": {},
   "source": [
    "#### 9 images for the same figure ID"
   ]
  },
  {
   "cell_type": "code",
   "execution_count": null,
   "id": "55443e6f",
   "metadata": {
    "scrolled": false
   },
   "outputs": [],
   "source": [
    "nine_item_figure_id = '0107'\n",
    "show_book_figure(nine_item_figure_id)"
   ]
  },
  {
   "cell_type": "code",
   "execution_count": null,
   "id": "d8b46c70",
   "metadata": {},
   "outputs": [],
   "source": [
    "nine_item_figure_id = '584'\n",
    "show_book_figure(nine_item_figure_id)"
   ]
  },
  {
   "cell_type": "markdown",
   "id": "f7e423b1",
   "metadata": {},
   "source": [
    "## PubMed Set"
   ]
  },
  {
   "cell_type": "code",
   "execution_count": null,
   "id": "af951b6c",
   "metadata": {},
   "outputs": [],
   "source": [
    "pubmed_set_dir = '../datasets/ARCH/pubmed_set'"
   ]
  },
  {
   "cell_type": "code",
   "execution_count": null,
   "id": "d5621844",
   "metadata": {},
   "outputs": [],
   "source": [
    "os.listdir(pubmed_set_dir)"
   ]
  },
  {
   "cell_type": "markdown",
   "id": "3e8b5774",
   "metadata": {},
   "source": [
    "### Readme"
   ]
  },
  {
   "cell_type": "code",
   "execution_count": null,
   "id": "928db98c",
   "metadata": {},
   "outputs": [],
   "source": [
    "!cat ../datasets/ARCH/pubmed_set/README.md"
   ]
  },
  {
   "cell_type": "markdown",
   "id": "874d361f",
   "metadata": {},
   "source": [
    "### Captions"
   ]
  },
  {
   "cell_type": "code",
   "execution_count": null,
   "id": "879cd5d2",
   "metadata": {},
   "outputs": [],
   "source": [
    "with open(f'{pubmed_set_dir}/captions.json', 'r') as f:\n",
    "    pubmed_captions = json.load(f)\n",
    "\n",
    "pubmed_captions_df = pd.DataFrame(pubmed_captions).T"
   ]
  },
  {
   "cell_type": "code",
   "execution_count": null,
   "id": "76a64c6f",
   "metadata": {},
   "outputs": [],
   "source": [
    "pubmed_captions_df"
   ]
  },
  {
   "cell_type": "code",
   "execution_count": null,
   "id": "8cce4a22",
   "metadata": {},
   "outputs": [],
   "source": [
    "pubmed_captions_df.nunique()"
   ]
  },
  {
   "cell_type": "code",
   "execution_count": null,
   "id": "2d1f4972",
   "metadata": {},
   "outputs": [],
   "source": [
    "captions_with_multiple_occurrences = [(caption, count) \\\n",
    "                                      for caption, count in Counter(pubmed_captions_df.caption).items() \\\n",
    "                                      if count > 1]\n",
    "captions_with_multiple_occurrences"
   ]
  },
  {
   "cell_type": "code",
   "execution_count": null,
   "id": "66e32823",
   "metadata": {},
   "outputs": [],
   "source": [
    "Counter(pubmed_captions_df.caption)"
   ]
  },
  {
   "cell_type": "code",
   "execution_count": null,
   "id": "b9d9d3e3",
   "metadata": {},
   "outputs": [],
   "source": [
    "caption_of_interest = 'Low-grade peritoneal serous carcinoma. Monomorphic cells associated with psammoma bodies are seen. Hematoxylin and eosin stain, original magnification: x100.'\n",
    "pubmed_captions_df[pubmed_captions_df.caption == caption_of_interest]"
   ]
  },
  {
   "cell_type": "markdown",
   "id": "3b32f540",
   "metadata": {},
   "source": [
    "### Images"
   ]
  },
  {
   "cell_type": "code",
   "execution_count": null,
   "id": "d44629bb",
   "metadata": {},
   "outputs": [],
   "source": [
    "len(os.listdir(f'{pubmed_set_dir}/images'))"
   ]
  },
  {
   "cell_type": "code",
   "execution_count": null,
   "id": "6194357e",
   "metadata": {},
   "outputs": [],
   "source": [
    "pubmed_image_ids = [f_name.split('.')[0] for f_name in os.listdir(f'{pubmed_set_dir}/images')]\n",
    "assert len(pubmed_image_ids) == len(set(pubmed_image_ids))\n",
    "\n",
    "len(pubmed_image_ids)"
   ]
  },
  {
   "cell_type": "code",
   "execution_count": null,
   "id": "4996b3f6",
   "metadata": {},
   "outputs": [],
   "source": [
    "set(pubmed_image_ids) == set(pubmed_captions_df.uuid)"
   ]
  },
  {
   "cell_type": "markdown",
   "id": "c4e12d9e",
   "metadata": {},
   "source": [
    "All UUIDs in the `captions.json` coincide with the UUIDs of the images in the folder. No Images missing."
   ]
  },
  {
   "cell_type": "code",
   "execution_count": null,
   "id": "6434ceba",
   "metadata": {},
   "outputs": [],
   "source": [
    "def show_pubmed_figure(caption: str):\n",
    "    print('caption:', caption)\n",
    "    display(pubmed_captions_df[pubmed_captions_df['caption'] == caption])\n",
    "\n",
    "    for i, row in pubmed_captions_df[pubmed_captions_df.caption == caption].sort_values(by='uuid').iterrows():\n",
    "        #letter = row[1]\n",
    "        img_uuid = row[1]\n",
    "        #print(letter, ':', img_uuid)\n",
    "\n",
    "        img = imageio.imread(f\"{pubmed_set_dir}/images/{img_uuid}.jpg\")\n",
    "        plt.imshow(img)\n",
    "        plt.show()"
   ]
  },
  {
   "cell_type": "code",
   "execution_count": null,
   "id": "0a966e77",
   "metadata": {},
   "outputs": [],
   "source": [
    "for caption_of_interest, count in captions_with_multiple_occurrences:\n",
    "    show_pubmed_figure(caption_of_interest)"
   ]
  },
  {
   "cell_type": "markdown",
   "id": "a4598346",
   "metadata": {},
   "source": [
    "Captions are not split into different images. There are no \"A\", \"B\", \"C\" parts in a caption. There are also no \"A\", \"B\", \"C\" labels on images."
   ]
  },
  {
   "cell_type": "code",
   "execution_count": null,
   "id": "ebb4811e",
   "metadata": {},
   "outputs": [],
   "source": [
    "Counter(Counter(pubmed_captions_df.caption).values())"
   ]
  },
  {
   "cell_type": "code",
   "execution_count": null,
   "id": "6319be9c",
   "metadata": {},
   "outputs": [],
   "source": [
    "counter_to_dataframe(Counter(Counter(pubmed_captions_df.caption).values()))"
   ]
  },
  {
   "cell_type": "code",
   "execution_count": null,
   "id": "c6972935",
   "metadata": {},
   "outputs": [],
   "source": [
    "pubmed_captions_df.nunique()"
   ]
  },
  {
   "cell_type": "code",
   "execution_count": null,
   "id": "989fb52f",
   "metadata": {},
   "outputs": [],
   "source": []
  }
 ],
 "metadata": {
  "kernelspec": {
   "display_name": "Python [conda env:medical-cv-cpu] *",
   "language": "python",
   "name": "conda-env-medical-cv-cpu-py"
  },
  "language_info": {
   "codemirror_mode": {
    "name": "ipython",
    "version": 3
   },
   "file_extension": ".py",
   "mimetype": "text/x-python",
   "name": "python",
   "nbconvert_exporter": "python",
   "pygments_lexer": "ipython3",
   "version": "3.9.7"
  }
 },
 "nbformat": 4,
 "nbformat_minor": 5
}
