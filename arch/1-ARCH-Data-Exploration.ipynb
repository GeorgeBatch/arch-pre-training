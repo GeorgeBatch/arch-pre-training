{
 "cells": [
  {
   "cell_type": "code",
   "execution_count": null,
   "id": "11a7800e",
   "metadata": {},
   "outputs": [],
   "source": [
    "import os\n",
    "import json\n",
    "\n",
    "import numpy as np\n",
    "import pandas as pd\n",
    "import matplotlib.pyplot as plt\n",
    "\n",
    "import cv2\n",
    "from PIL import Image\n",
    "import imageio, skimage\n",
    "\n",
    "from collections import Counter"
   ]
  },
  {
   "cell_type": "code",
   "execution_count": null,
   "id": "d0445bb8",
   "metadata": {},
   "outputs": [],
   "source": []
  },
  {
   "cell_type": "code",
   "execution_count": null,
   "id": "6129edcb",
   "metadata": {},
   "outputs": [],
   "source": [
    "def show_book_figure(figure_id: str):\n",
    "    #print('figure_id:', figure_id)\n",
    "    display(bookset_captions_df[bookset_captions_df['figure_id'] == figure_id])\n",
    "\n",
    "    for i, row in bookset_captions_df[bookset_captions_df.figure_id == figure_id].sort_values(by='letter').iterrows():\n",
    "        letter = row[1]\n",
    "        img_uuid = row[3]\n",
    "        print('fugire_id:', figure_id)\n",
    "        print(letter, ':', img_uuid)\n",
    "\n",
    "        img = imageio.imread(f\"{book_set_dir}/images/{img_uuid}.png\")\n",
    "        plt.imshow(img)\n",
    "        plt.show()"
   ]
  },
  {
   "cell_type": "code",
   "execution_count": null,
   "id": "ab85194a",
   "metadata": {},
   "outputs": [],
   "source": [
    "def show_pubmed_figure(caption: str):\n",
    "    print('caption:', caption)\n",
    "    display(pubmed_captions_df[pubmed_captions_df['caption'] == caption])\n",
    "\n",
    "    for i, row in pubmed_captions_df[pubmed_captions_df.caption == caption].sort_values(by='uuid').iterrows():\n",
    "        #letter = row[1]\n",
    "        img_uuid = row[1]\n",
    "        #print(letter, ':', img_uuid)\n",
    "\n",
    "        img = imageio.imread(f\"{pubmed_set_dir}/images/{img_uuid}.jpg\")\n",
    "        plt.imshow(img)\n",
    "        plt.show()"
   ]
  },
  {
   "cell_type": "code",
   "execution_count": null,
   "id": "85d4c6ea",
   "metadata": {},
   "outputs": [],
   "source": [
    "def counter_to_dataframe(c: Counter):\n",
    "\n",
    "    bag_sizes_to_freqs = {\n",
    "        'bag_size': [],\n",
    "        'freq': []\n",
    "    }\n",
    "\n",
    "    for bag_size, freq in c.items():\n",
    "        bag_sizes_to_freqs['bag_size'].append(bag_size)\n",
    "        bag_sizes_to_freqs['freq'].append(freq)\n",
    "\n",
    "    bag_sizes_to_freqs_df = pd.DataFrame(bag_sizes_to_freqs).sort_values(by='bag_size')\n",
    "    bag_sizes_to_freqs_df = bag_sizes_to_freqs_df.set_index('bag_size')\n",
    "    display(bag_sizes_to_freqs_df)"
   ]
  },
  {
   "cell_type": "code",
   "execution_count": null,
   "id": "0c5d3242",
   "metadata": {},
   "outputs": [],
   "source": []
  },
  {
   "cell_type": "code",
   "execution_count": null,
   "id": "ba08138b",
   "metadata": {},
   "outputs": [],
   "source": [
    "os.listdir('../datasets/ARCH')"
   ]
  },
  {
   "cell_type": "markdown",
   "id": "8e3bb5a1",
   "metadata": {},
   "source": [
    "## Books set"
   ]
  },
  {
   "cell_type": "code",
   "execution_count": null,
   "id": "0a21d655",
   "metadata": {},
   "outputs": [],
   "source": [
    "book_set_dir = '../datasets/ARCH/books_set'\n",
    "os.listdir(book_set_dir)"
   ]
  },
  {
   "cell_type": "markdown",
   "id": "3351c33b",
   "metadata": {},
   "source": [
    "### Readme"
   ]
  },
  {
   "cell_type": "code",
   "execution_count": null,
   "id": "b39caae2",
   "metadata": {},
   "outputs": [],
   "source": [
    "!cat ../datasets/ARCH/books_set/README.md"
   ]
  },
  {
   "cell_type": "markdown",
   "id": "f3e41d57",
   "metadata": {},
   "source": [
    "### Images"
   ]
  },
  {
   "cell_type": "code",
   "execution_count": null,
   "id": "48303c1c",
   "metadata": {},
   "outputs": [],
   "source": [
    "len(os.listdir(f'{book_set_dir}/images'))"
   ]
  },
  {
   "cell_type": "code",
   "execution_count": null,
   "id": "3760b13a",
   "metadata": {},
   "outputs": [],
   "source": [
    "bookset_image_uuids = [f_name.split('.')[0] for f_name in os.listdir(f'{book_set_dir}/images')]\n",
    "assert len(bookset_image_uuids) == len(set(bookset_image_uuids))\n",
    "\n",
    "len(bookset_image_uuids)"
   ]
  },
  {
   "cell_type": "markdown",
   "id": "eb102c96",
   "metadata": {},
   "source": [
    "### Captions"
   ]
  },
  {
   "cell_type": "code",
   "execution_count": null,
   "id": "fa437a64",
   "metadata": {},
   "outputs": [],
   "source": [
    "with open(f'{book_set_dir}/captions.json', 'r') as f:\n",
    "    bookset_captions = json.load(f)\n",
    "\n",
    "bookset_captions_df = pd.DataFrame(bookset_captions).T"
   ]
  },
  {
   "cell_type": "code",
   "execution_count": null,
   "id": "7b036269",
   "metadata": {},
   "outputs": [],
   "source": [
    "bookset_captions_df"
   ]
  },
  {
   "cell_type": "code",
   "execution_count": null,
   "id": "8a88ff7e",
   "metadata": {},
   "outputs": [],
   "source": [
    "set(bookset_image_uuids).issubset(set(bookset_captions_df.uuid))"
   ]
  },
  {
   "cell_type": "markdown",
   "id": "59235822",
   "metadata": {},
   "source": [
    "Captions are available for all available images."
   ]
  },
  {
   "cell_type": "code",
   "execution_count": null,
   "id": "2fcd3fb9",
   "metadata": {},
   "outputs": [],
   "source": [
    "missing_image_uuids = set(bookset_captions_df.uuid) - set(bookset_image_uuids)\n",
    "len(missing_image_uuids)"
   ]
  },
  {
   "cell_type": "code",
   "execution_count": null,
   "id": "4fd47366",
   "metadata": {},
   "outputs": [],
   "source": [
    "print(\"Total missing:\", len(missing_image_uuids))\n",
    "\n",
    "missing_image_uuids"
   ]
  },
  {
   "cell_type": "markdown",
   "id": "da766deb",
   "metadata": {},
   "source": [
    "There are also 35 missing images present"
   ]
  },
  {
   "cell_type": "code",
   "execution_count": null,
   "id": "2415d089",
   "metadata": {},
   "outputs": [],
   "source": [
    "bookset_captions_df.nunique()"
   ]
  },
  {
   "cell_type": "code",
   "execution_count": null,
   "id": "5b6b9c0b",
   "metadata": {},
   "outputs": [],
   "source": [
    "# use only the information about the images present in the ..datasets/ARCH/books_set/images/\n",
    "bookset_captions_df[bookset_captions_df.uuid.isin(bookset_image_uuids)].letter.value_counts()"
   ]
  },
  {
   "cell_type": "markdown",
   "id": "acb52721",
   "metadata": {},
   "source": [
    "**Not all bags start with \"A\"! Do not use these numbers for information on frequencies of bag sizes.**"
   ]
  },
  {
   "cell_type": "code",
   "execution_count": null,
   "id": "d48872e9",
   "metadata": {},
   "outputs": [],
   "source": []
  },
  {
   "cell_type": "code",
   "execution_count": null,
   "id": "7fbfa48d",
   "metadata": {},
   "outputs": [],
   "source": []
  },
  {
   "cell_type": "code",
   "execution_count": null,
   "id": "1737c98f",
   "metadata": {},
   "outputs": [],
   "source": [
    "bookset_captions_df[bookset_captions_df['figure_id'] == '00']"
   ]
  },
  {
   "cell_type": "code",
   "execution_count": null,
   "id": "41495907",
   "metadata": {},
   "outputs": [],
   "source": [
    "bookset_captions_df[bookset_captions_df['figure_id'] == '00'].caption[0]"
   ]
  },
  {
   "cell_type": "markdown",
   "id": "3cd82dd2",
   "metadata": {},
   "source": [
    "### Examples"
   ]
  },
  {
   "cell_type": "markdown",
   "id": "c39bb702",
   "metadata": {},
   "source": [
    "#### Single"
   ]
  },
  {
   "cell_type": "code",
   "execution_count": null,
   "id": "90e5e0c1",
   "metadata": {},
   "outputs": [],
   "source": [
    "show_book_figure('01')"
   ]
  },
  {
   "cell_type": "code",
   "execution_count": null,
   "id": "f803c596",
   "metadata": {},
   "outputs": [],
   "source": []
  },
  {
   "cell_type": "markdown",
   "id": "42c9d88b",
   "metadata": {},
   "source": [
    "#### 2 images"
   ]
  },
  {
   "cell_type": "code",
   "execution_count": null,
   "id": "d085a76f",
   "metadata": {},
   "outputs": [],
   "source": [
    "show_book_figure('00')"
   ]
  },
  {
   "cell_type": "code",
   "execution_count": null,
   "id": "692cf15f",
   "metadata": {},
   "outputs": [],
   "source": []
  },
  {
   "cell_type": "code",
   "execution_count": null,
   "id": "00dbd880",
   "metadata": {},
   "outputs": [],
   "source": []
  },
  {
   "cell_type": "markdown",
   "id": "cfe922b1",
   "metadata": {},
   "source": [
    "Figure ID `figure_id` determines the **bucket**"
   ]
  },
  {
   "cell_type": "markdown",
   "id": "485ee8b5",
   "metadata": {},
   "source": [
    "#### Has \"L\" in the index"
   ]
  },
  {
   "cell_type": "code",
   "execution_count": null,
   "id": "bb98271b",
   "metadata": {},
   "outputs": [],
   "source": [
    "L_item_figure_id = bookset_captions_df[bookset_captions_df['letter'] == 'L'].figure_id.item()\n",
    "L_item_figure_id"
   ]
  },
  {
   "cell_type": "code",
   "execution_count": null,
   "id": "d117fb3d",
   "metadata": {
    "scrolled": false
   },
   "outputs": [],
   "source": [
    "show_book_figure(L_item_figure_id)"
   ]
  },
  {
   "cell_type": "markdown",
   "id": "7389d355",
   "metadata": {},
   "source": [
    "### Number of images per bag"
   ]
  },
  {
   "cell_type": "markdown",
   "id": "72d27375",
   "metadata": {},
   "source": [
    "#### Missing Images present"
   ]
  },
  {
   "cell_type": "code",
   "execution_count": null,
   "id": "567a8dd9",
   "metadata": {},
   "outputs": [],
   "source": [
    "Counter(Counter(bookset_captions_df.figure_id).values())"
   ]
  },
  {
   "cell_type": "code",
   "execution_count": null,
   "id": "d1238a3e",
   "metadata": {},
   "outputs": [],
   "source": [
    "counter_to_dataframe(Counter(Counter(bookset_captions_df.figure_id).values()))"
   ]
  },
  {
   "cell_type": "code",
   "execution_count": null,
   "id": "7b1e9a7b",
   "metadata": {},
   "outputs": [],
   "source": [
    "bookset_captions_df.nunique()"
   ]
  },
  {
   "cell_type": "markdown",
   "id": "1691bbdd",
   "metadata": {},
   "source": [
    "#### w/o missing images"
   ]
  },
  {
   "cell_type": "code",
   "execution_count": null,
   "id": "733e013f",
   "metadata": {},
   "outputs": [],
   "source": [
    "# use only the information about the images present in the ..datasets/ARCH/books_set/images/\n",
    "bookset_captions_all_images_present_df = bookset_captions_df[bookset_captions_df.uuid.isin(bookset_image_uuids)]\n",
    "counter_to_dataframe(Counter(Counter(bookset_captions_all_images_present_df.figure_id).values()))"
   ]
  },
  {
   "cell_type": "code",
   "execution_count": null,
   "id": "47275216",
   "metadata": {},
   "outputs": [],
   "source": [
    "bookset_captions_all_images_present_df.nunique()"
   ]
  },
  {
   "cell_type": "code",
   "execution_count": null,
   "id": "f9121598",
   "metadata": {},
   "outputs": [],
   "source": []
  },
  {
   "cell_type": "code",
   "execution_count": null,
   "id": "c7b67ebb",
   "metadata": {},
   "outputs": [],
   "source": [
    "figids_to_captions = {}\n",
    "for i, (figid, caption) in bookset_captions_all_images_present_df[['figure_id', 'caption']].iterrows():\n",
    "    #print(figid, caption)\n",
    "    #print()\n",
    "    \n",
    "    if figid not in figids_to_captions:\n",
    "        figids_to_captions[figid] = []\n",
    "    figids_to_captions[figid].append(caption)\n",
    "    \n",
    "all_captions_match = True # a flag that guarantees that all the captions corresponding to the same figure match\n",
    "for figid, caption_list in figids_to_captions.items():\n",
    "    all_captions_match = all_captions_match and (len(set(caption_list)) == 1)\n",
    "print(all_captions_match)"
   ]
  },
  {
   "cell_type": "markdown",
   "id": "c5c93bda",
   "metadata": {},
   "source": [
    "**For each of the figure ids, there is always a single caption.**"
   ]
  },
  {
   "cell_type": "code",
   "execution_count": null,
   "id": "afaf7478",
   "metadata": {},
   "outputs": [],
   "source": [
    "captions_to_figids = {}\n",
    "for i, (figid, caption) in bookset_captions_all_images_present_df[['figure_id', 'caption']].iterrows():\n",
    "    if caption not in captions_to_figids:\n",
    "        captions_to_figids[caption] = []\n",
    "    captions_to_figids[caption].append(figid)\n",
    "    \n",
    "all_figids_match = True\n",
    "total_extra = 0\n",
    "for caption, figid_list in captions_to_figids.items():\n",
    "    all_figids_match_in_the_list = (len(set(figid_list)) == 1)\n",
    "    if not all_figids_match_in_the_list:\n",
    "        print(caption, figid_list)\n",
    "        print()\n",
    "        total_extra += (len(set(figid_list))-1)\n",
    "        \n",
    "    if (len(set(figid_list))-1) > 1:\n",
    "        print('-'*80)\n",
    "        print(caption, figid_list)\n",
    "        print('-'*80)\n",
    "        print()\n",
    "    \n",
    "    all_figids_match = all_figids_match and all_figids_match_in_the_list\n",
    "\n",
    "print('-'*80)\n",
    "print(all_figids_match, total_extra)\n",
    "print()"
   ]
  },
  {
   "cell_type": "markdown",
   "id": "cd2cf25c",
   "metadata": {},
   "source": [
    "There are 77 captions, which correspond to 2 (76 captions) or more (1 caption has 3 ids: ['4122', '4122', '4123', '4123', '4124']) different ids. In total, this gives a total difference between the number of unique captions and unique figure ids in the `books_set` of 78=76\\*(2-1)+1\\*(3-1). "
   ]
  },
  {
   "cell_type": "code",
   "execution_count": null,
   "id": "b6d64514",
   "metadata": {},
   "outputs": [],
   "source": [
    "example_caption_with_multiple_figures = bookset_captions_all_images_present_df[bookset_captions_all_images_present_df.figure_id=='4122'].caption[0]\n",
    "\n",
    "print(example_caption_with_multiple_figures)\n",
    "bookset_captions_all_images_present_df[bookset_captions_all_images_present_df.caption == example_caption_with_multiple_figures]"
   ]
  },
  {
   "cell_type": "code",
   "execution_count": null,
   "id": "98226264",
   "metadata": {},
   "outputs": [],
   "source": [
    "print(bookset_captions_all_images_present_df[bookset_captions_all_images_present_df.figure_id=='4122'].caption[0])\n",
    "\n",
    "for img_uuid in set(['4122', '4122', '4123', '4123', '4124']):\n",
    "    show_book_figure(img_uuid)\n",
    "    print('-'*80)"
   ]
  },
  {
   "cell_type": "code",
   "execution_count": null,
   "id": "df9aafe1",
   "metadata": {},
   "outputs": [],
   "source": []
  },
  {
   "cell_type": "code",
   "execution_count": null,
   "id": "14b23e02",
   "metadata": {},
   "outputs": [],
   "source": []
  },
  {
   "cell_type": "code",
   "execution_count": null,
   "id": "9b6eb5fb",
   "metadata": {},
   "outputs": [],
   "source": []
  },
  {
   "cell_type": "markdown",
   "id": "dad29702",
   "metadata": {},
   "source": [
    "#### 9 images for the same figure ID"
   ]
  },
  {
   "cell_type": "code",
   "execution_count": null,
   "id": "d4edb4d3",
   "metadata": {},
   "outputs": [],
   "source": [
    "[key for key, value in Counter(bookset_captions_df.figure_id).items() if value == 9]"
   ]
  },
  {
   "cell_type": "code",
   "execution_count": null,
   "id": "02625292",
   "metadata": {
    "scrolled": false
   },
   "outputs": [],
   "source": [
    "nine_item_figure_id = '0107'\n",
    "show_book_figure(nine_item_figure_id)"
   ]
  },
  {
   "cell_type": "code",
   "execution_count": null,
   "id": "c2b39d28",
   "metadata": {},
   "outputs": [],
   "source": [
    "nine_item_figure_id = '584'\n",
    "show_book_figure(nine_item_figure_id)"
   ]
  },
  {
   "cell_type": "markdown",
   "id": "049cd1ca",
   "metadata": {},
   "source": [
    "## PubMed Set"
   ]
  },
  {
   "cell_type": "code",
   "execution_count": null,
   "id": "c2423ad8",
   "metadata": {},
   "outputs": [],
   "source": [
    "pubmed_set_dir = '../datasets/ARCH/pubmed_set'"
   ]
  },
  {
   "cell_type": "code",
   "execution_count": null,
   "id": "51a876d3",
   "metadata": {},
   "outputs": [],
   "source": [
    "os.listdir(pubmed_set_dir)"
   ]
  },
  {
   "cell_type": "markdown",
   "id": "c701ff92",
   "metadata": {},
   "source": [
    "### Readme"
   ]
  },
  {
   "cell_type": "code",
   "execution_count": null,
   "id": "f19e8567",
   "metadata": {},
   "outputs": [],
   "source": [
    "!cat ../datasets/ARCH/pubmed_set/README.md"
   ]
  },
  {
   "cell_type": "markdown",
   "id": "a46bdd38",
   "metadata": {},
   "source": [
    "### Captions"
   ]
  },
  {
   "cell_type": "code",
   "execution_count": null,
   "id": "078fa092",
   "metadata": {},
   "outputs": [],
   "source": [
    "with open(f'{pubmed_set_dir}/captions.json', 'r') as f:\n",
    "    pubmed_captions = json.load(f)\n",
    "\n",
    "pubmed_captions"
   ]
  },
  {
   "cell_type": "markdown",
   "id": "7c50bb9b",
   "metadata": {},
   "source": [
    "Indices appear to be integers from 0 to 3308."
   ]
  },
  {
   "cell_type": "code",
   "execution_count": null,
   "id": "d33a4f6c",
   "metadata": {},
   "outputs": [],
   "source": [
    "# Check for duplicates (slightly pointless since keys have to be unique anyway)\n",
    "assert len(pubmed_captions.keys()) == len(set(pubmed_captions.keys()))\n",
    "\n",
    "# check for the indices to be without gaps ['0', '1', '2', ..., '3308']\n",
    "assert sorted(list(pubmed_captions.keys())) == sorted([str(i) for i in range(len(pubmed_captions.keys()))])"
   ]
  },
  {
   "cell_type": "markdown",
   "id": "2b0e362b",
   "metadata": {},
   "source": [
    "A simple check confirms that everything is in order."
   ]
  },
  {
   "cell_type": "code",
   "execution_count": null,
   "id": "a4c25b14",
   "metadata": {},
   "outputs": [],
   "source": [
    "pubmed_captions_df = pd.DataFrame(pubmed_captions).T\n",
    "pubmed_captions_df"
   ]
  },
  {
   "cell_type": "code",
   "execution_count": null,
   "id": "b0a43759",
   "metadata": {},
   "outputs": [],
   "source": [
    "pubmed_captions_df.nunique()"
   ]
  },
  {
   "cell_type": "code",
   "execution_count": null,
   "id": "9bd58a6c",
   "metadata": {},
   "outputs": [],
   "source": [
    "captions_with_multiple_occurrences = [(caption, count) \\\n",
    "                                      for caption, count in Counter(pubmed_captions_df.caption).items() \\\n",
    "                                      if count > 1]\n",
    "captions_with_multiple_occurrences"
   ]
  },
  {
   "cell_type": "code",
   "execution_count": null,
   "id": "c24cc468",
   "metadata": {},
   "outputs": [],
   "source": [
    "# counting extra uuids (substract 1 since 1 uuid per caption should be there by default)\n",
    "sum([num-1 for caption, num in captions_with_multiple_occurrences])"
   ]
  },
  {
   "cell_type": "code",
   "execution_count": null,
   "id": "78675a6c",
   "metadata": {},
   "outputs": [],
   "source": [
    "len(captions_with_multiple_occurrences)"
   ]
  },
  {
   "cell_type": "code",
   "execution_count": null,
   "id": "9491d5d5",
   "metadata": {},
   "outputs": [],
   "source": [
    "Counter(pubmed_captions_df.caption)"
   ]
  },
  {
   "cell_type": "code",
   "execution_count": null,
   "id": "a7ce346a",
   "metadata": {},
   "outputs": [],
   "source": [
    "caption_of_interest = 'Low-grade peritoneal serous carcinoma. Monomorphic cells associated with psammoma bodies are seen. Hematoxylin and eosin stain, original magnification: x100.'\n",
    "pubmed_captions_df[pubmed_captions_df.caption == caption_of_interest]"
   ]
  },
  {
   "cell_type": "markdown",
   "id": "2ce9467b",
   "metadata": {},
   "source": [
    "### Images"
   ]
  },
  {
   "cell_type": "code",
   "execution_count": null,
   "id": "c1e89980",
   "metadata": {},
   "outputs": [],
   "source": [
    "len(os.listdir(f'{pubmed_set_dir}/images'))"
   ]
  },
  {
   "cell_type": "code",
   "execution_count": null,
   "id": "84fe125c",
   "metadata": {},
   "outputs": [],
   "source": [
    "pubmed_image_ids = [f_name.split('.')[0] for f_name in os.listdir(f'{pubmed_set_dir}/images')]\n",
    "assert len(pubmed_image_ids) == len(set(pubmed_image_ids))\n",
    "\n",
    "len(pubmed_image_ids)"
   ]
  },
  {
   "cell_type": "code",
   "execution_count": null,
   "id": "73ca9379",
   "metadata": {},
   "outputs": [],
   "source": [
    "set(pubmed_image_ids) == set(pubmed_captions_df.uuid)"
   ]
  },
  {
   "cell_type": "markdown",
   "id": "b09340f0",
   "metadata": {},
   "source": [
    "All UUIDs in the `captions.json` coincide with the UUIDs of the images in the folder. No Images missing."
   ]
  },
  {
   "cell_type": "code",
   "execution_count": null,
   "id": "5c55b7bc",
   "metadata": {},
   "outputs": [],
   "source": []
  },
  {
   "cell_type": "code",
   "execution_count": null,
   "id": "0ed7e5a7",
   "metadata": {},
   "outputs": [],
   "source": [
    "for caption_of_interest, count in captions_with_multiple_occurrences:\n",
    "    show_pubmed_figure(caption_of_interest)"
   ]
  },
  {
   "cell_type": "markdown",
   "id": "f7592224",
   "metadata": {},
   "source": [
    "Captions are not split into different images. There are no \"A\", \"B\", \"C\" parts in a caption. There are also no \"A\", \"B\", \"C\" labels on images."
   ]
  },
  {
   "cell_type": "code",
   "execution_count": null,
   "id": "5ec1954d",
   "metadata": {},
   "outputs": [],
   "source": [
    "Counter(Counter(pubmed_captions_df.caption).values())"
   ]
  },
  {
   "cell_type": "code",
   "execution_count": null,
   "id": "80080997",
   "metadata": {},
   "outputs": [],
   "source": [
    "counter_to_dataframe(Counter(Counter(pubmed_captions_df.caption).values()))"
   ]
  },
  {
   "cell_type": "code",
   "execution_count": null,
   "id": "4fdf6f42",
   "metadata": {},
   "outputs": [],
   "source": [
    "pubmed_captions_df.nunique()"
   ]
  },
  {
   "cell_type": "code",
   "execution_count": null,
   "id": "e3371067",
   "metadata": {},
   "outputs": [],
   "source": [
    "pubmed_captions_df['uuid'].nunique() - pubmed_captions_df['caption'].nunique()"
   ]
  },
  {
   "cell_type": "code",
   "execution_count": null,
   "id": "0ede2dbe",
   "metadata": {},
   "outputs": [],
   "source": []
  },
  {
   "cell_type": "code",
   "execution_count": null,
   "id": "fd97d888",
   "metadata": {},
   "outputs": [],
   "source": [
    "uuids_to_captions = {}\n",
    "for i, (uuid, caption) in pubmed_captions_df[['uuid', 'caption']].iterrows():\n",
    "    #print(figid, caption)\n",
    "    #print()\n",
    "    \n",
    "    if uuid not in uuids_to_captions:\n",
    "        uuids_to_captions[uuid] = []\n",
    "    uuids_to_captions[uuid].append(caption)\n",
    "    \n",
    "all_captions_match = True # a flag that guarantees that all the captions corresponding to the same figure match\n",
    "for uuid, caption_list in uuids_to_captions.items():\n",
    "    all_captions_match = (all_captions_match and (len(set(caption_list)) == 1))\n",
    "print(all_captions_match)"
   ]
  },
  {
   "cell_type": "markdown",
   "id": "287b205b",
   "metadata": {},
   "source": [
    "**For each uuid, there is always a single caption.**"
   ]
  },
  {
   "cell_type": "code",
   "execution_count": null,
   "id": "d0be05e0",
   "metadata": {},
   "outputs": [],
   "source": [
    "captions_to_uuids = {}\n",
    "for i, (uuid, caption) in pubmed_captions_df[['uuid', 'caption']].iterrows():\n",
    "    if caption not in captions_to_uuids:\n",
    "        captions_to_uuids[caption] = []\n",
    "    captions_to_uuids[caption].append(uuid)\n",
    "    \n",
    "all_uuids_match = True\n",
    "total_extra = 0\n",
    "total_captions_with_multiple_uuids = 0\n",
    "\n",
    "for caption, uuid_list in captions_to_uuids.items():\n",
    "    all_uuids_match_in_the_list = (len(set(uuid_list)) == 1)\n",
    "    if not all_uuids_match_in_the_list:\n",
    "        print(caption, uuid_list)\n",
    "        print()\n",
    "        total_captions_with_multiple_uuids += 1\n",
    "        total_extra += (len(set(uuid_list))-1)\n",
    "        \n",
    "    if (len(set(uuid_list))-1) > 1:\n",
    "        print('-'*80)\n",
    "        print(caption, uuid_list)\n",
    "        print('-'*80)\n",
    "        print()\n",
    "    \n",
    "    all_uuids_match = (all_uuids_match and all_uuids_match_in_the_list)\n",
    "\n",
    "print('-'*80)\n",
    "print(\"all_uuids_match: \", all_uuids_match)\n",
    "print(\"Extra uuids:\", total_extra)\n",
    "print(\"Captions with multiple uuids\", total_captions_with_multiple_uuids)\n",
    "print()"
   ]
  },
  {
   "cell_type": "markdown",
   "id": "e3414b70",
   "metadata": {},
   "source": [
    "There are 24 \"extra\" uuids. "
   ]
  }
 ],
 "metadata": {
  "kernelspec": {
   "display_name": "Python [conda env:medical-cv-cpu]",
   "language": "python",
   "name": "conda-env-medical-cv-cpu-py"
  },
  "language_info": {
   "codemirror_mode": {
    "name": "ipython",
    "version": 3
   },
   "file_extension": ".py",
   "mimetype": "text/x-python",
   "name": "python",
   "nbconvert_exporter": "python",
   "pygments_lexer": "ipython3",
   "version": "3.9.7"
  }
 },
 "nbformat": 4,
 "nbformat_minor": 5
}
